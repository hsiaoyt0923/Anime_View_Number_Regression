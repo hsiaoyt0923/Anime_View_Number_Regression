{
 "cells": [
  {
   "cell_type": "code",
   "execution_count": 1,
   "metadata": {},
   "outputs": [],
   "source": [
    "import requests\n",
    "from bs4 import BeautifulSoup"
   ]
  },
  {
   "cell_type": "code",
   "execution_count": 2,
   "metadata": {},
   "outputs": [
    {
     "name": "stdout",
     "output_type": "stream",
     "text": [
      "請求成功：200\n"
     ]
    }
   ],
   "source": [
    "url = 'https://acgsecrets.hk/bangumi/202201/'\n",
    "headers = {\n",
    "    'user-agent': 'Mozilla/5.0 (Windows NT 10.0; Win64; x64) AppleWebKit/537.36 (KHTML, like Gecko) Chrome/119.0.0.0 Safari/537.36'}\n",
    "r = requests.get(url, headers=headers)\n",
    "if r.status_code == 200:\n",
    "    print(f'請求成功：{r.status_code}')\n",
    "else:\n",
    "    print(f'請求失敗：{r.status_code}')"
   ]
  },
  {
   "cell_type": "code",
   "execution_count": 3,
   "metadata": {},
   "outputs": [],
   "source": [
    "r.encoding = 'utf8'"
   ]
  },
  {
   "cell_type": "code",
   "execution_count": 4,
   "metadata": {},
   "outputs": [],
   "source": [
    "soup = BeautifulSoup(r.text, 'html.parser')"
   ]
  },
  {
   "cell_type": "code",
   "execution_count": 5,
   "metadata": {},
   "outputs": [],
   "source": [
    "anime_list_202201 = []"
   ]
  },
  {
   "cell_type": "code",
   "execution_count": 6,
   "metadata": {},
   "outputs": [],
   "source": [
    "anime_contents = soup.select('.anime_content')\n",
    "for anime_content in anime_contents:\n",
    "    for steam_site_name in anime_content.select('.steam-site-name'):\n",
    "        if '巴哈姆特動畫瘋' in steam_site_name.text:\n",
    "\n",
    "            anime_name = anime_content.select_one('.entity_localized_name')  \n",
    "            anime_staffs = anime_content.select(\n",
    "                '.anime_staff > div')  # ResultSet\n",
    "\n",
    "            anime_data_list = [['作品名', [anime_name.text]], ['季度', ['202201']]]\n",
    "            for anime_staff in anime_staffs:  # ResultSet\n",
    "                role = anime_staff.select_one('.type').text  # string\n",
    "                staffs = anime_staff.select('.entities')  # ResultSet\n",
    "                staff_list = []\n",
    "                for staff in staffs:  # Tag\n",
    "                    staff_list.append(staff.text)\n",
    "                anime_data_list += [[role, staff_list]]\n",
    "\n",
    "            anime_casts = anime_content.select(\n",
    "                '.anime_cast > .anime_person > .entities')\n",
    "            anime_cast_list = []\n",
    "            for anime_cast in anime_casts:\n",
    "                anime_cast_list.append(anime_cast.text)\n",
    "            anime_data_list += [['聲優', anime_cast_list]]\n",
    "            anime_list_202201.append(anime_data_list)"
   ]
  },
  {
   "cell_type": "code",
   "execution_count": 9,
   "metadata": {},
   "outputs": [],
   "source": [
    "anime_contents = soup.select('.anime_content')\n",
    "anime_tags_202201 = []\n",
    "for anime_content in anime_contents:\n",
    "    for steam_site_name in anime_content.select('.steam-site-name'):\n",
    "        if '巴哈姆特動畫瘋' in steam_site_name.text:\n",
    "            anime_name = anime_content.select_one('.entity_localized_name').text\n",
    "            tag_list = [anime_name]\n",
    "            tags = anime_content.select('.anime_tag > tags')\n",
    "            for tag in tags:\n",
    "                tag_list.append(tag.text)\n",
    "            tag_list = [tag_list[i] for i in range(3)]\n",
    "            anime_tags_202201.append(tag_list)"
   ]
  },
  {
   "cell_type": "code",
   "execution_count": 12,
   "metadata": {},
   "outputs": [
    {
     "data": {
      "text/plain": [
       "[['進擊的巨人 The Final Season Part 2', '漫畫改編', '續作'],\n",
       " ['自稱賢者弟子的賢者', '小說改編', '新作'],\n",
       " ['戀上換裝娃娃', '漫畫改編', '新作'],\n",
       " ['平凡職業造就世界最強 第二季', '小說改編', '續作'],\n",
       " ['天才王子的赤字國家重生術', '小說改編', '新作'],\n",
       " ['食鏽末世錄', '小說改編', '新作'],\n",
       " ['擅長捉弄人的高木同學3', '漫畫改編', '續作'],\n",
       " ['與成為異世界美少女的大叔一起', '漫畫改編', '新作'],\n",
       " ['失格紋的最強賢者', '小說改編', '新作'],\n",
       " ['現實主義勇者的王國重建記 第二部', '小說改編', '續作'],\n",
       " ['終末的後宮', '漫畫改編', '新作'],\n",
       " ['相愛相殺', '漫畫改編', '新作'],\n",
       " [\"Ryman's Club\", '原創作品', '新作'],\n",
       " ['東京24區', '原創作品', '新作'],\n",
       " ['明日同學的水手服', '漫畫改編', '新作'],\n",
       " ['少女前線', '遊戲改編', '新作'],\n",
       " ['薔薇王的葬列', '漫畫改編', '新作'],\n",
       " ['ORIENT 東方少年', '漫畫改編', '新作'],\n",
       " ['怪人開發部的黑井津小姐', '漫畫改編', '新作'],\n",
       " ['最遊記RELOAD -ZEROIN-', '漫畫改編', '續作'],\n",
       " ['瓦尼塔斯的手札 第二季度', '漫畫改編', '續作'],\n",
       " ['TRIBE NINE', '原創作品', '新作'],\n",
       " ['秘密內幕～女警的反擊～', '漫畫改編', '新作'],\n",
       " ['室內足球少年!!!!!', '原創作品', '新作'],\n",
       " ['佐佐木與宮野', '漫畫改編', '新作'],\n",
       " ['幻想三國誌—天元靈心記', '遊戲改編', '新作'],\n",
       " ['闇芝居 第十季', '改編作品', '續作'],\n",
       " ['鬼滅之刃 遊郭篇', '漫畫改編', '續作'],\n",
       " ['國王排名', '漫畫改編', '新作']]"
      ]
     },
     "execution_count": 12,
     "metadata": {},
     "output_type": "execute_result"
    }
   ],
   "source": [
    "anime_tags_202201"
   ]
  },
  {
   "cell_type": "code",
   "execution_count": 15,
   "metadata": {},
   "outputs": [],
   "source": [
    "for list in anime_list_202201:\n",
    "    dict = {}\n",
    "\n",
    "    for item in list:\n",
    "\n",
    "        if len(item[1]) == 1:\n",
    "            item[1] = item[1][0]\n",
    "        else:\n",
    "            item[1] = str(item[1]).replace('[', '').replace(']', '')\n",
    "        other = {item[0]: item[1]}\n",
    "        dict.update(other)"
   ]
  },
  {
   "cell_type": "code",
   "execution_count": 16,
   "metadata": {},
   "outputs": [
    {
     "data": {
      "text/plain": [
       "{'作品名': '國王排名',\n",
       " '季度': '202201',\n",
       " '原作': '十日草輔',\n",
       " '導演': '八田洋介',\n",
       " '副導演': '今井有文',\n",
       " '劇本統籌': '岸本 卓',\n",
       " '人物設計': '野崎あつこ',\n",
       " '總作畫監督': \"'野崎あつこ', '河毛雅妃'\",\n",
       " '配角人物設計': '河毛雅妃',\n",
       " 'チーフ演出': '渕上 真',\n",
       " '主動畫師': \"'大城 勝', '小笠原真', '藤井 望'\",\n",
       " '美術監督': '金子雄司',\n",
       " '美術設定': '藤井一志',\n",
       " '色彩設計': '橋本 賢',\n",
       " '撮影監督': \"'出水田和人', '上田程之'\",\n",
       " '編集': '廣瀬清志',\n",
       " '音樂': 'MAYUKO',\n",
       " '音響効果': '緒方康恭',\n",
       " '音效指導': 'えびなやすのり',\n",
       " '動畫製作人': '岡田麻衣子',\n",
       " '動畫製作': 'WIT STUDIO',\n",
       " '聲優': \"'日向未南', '村瀬歩', '梶 裕貴', '佐藤利奈', '江口拓也', '上田燿司', '安元洋貴', '田所陽向', '山下大輝'\"}"
      ]
     },
     "execution_count": 16,
     "metadata": {},
     "output_type": "execute_result"
    }
   ],
   "source": [
    "dict"
   ]
  },
  {
   "cell_type": "code",
   "execution_count": 17,
   "metadata": {},
   "outputs": [],
   "source": [
    "a = pd.Series(dict)"
   ]
  },
  {
   "cell_type": "code",
   "execution_count": 18,
   "metadata": {},
   "outputs": [
    {
     "name": "stdout",
     "output_type": "stream",
     "text": [
      "作品名                                                    國王排名\n",
      "季度                                                   202201\n",
      "原作                                                     十日草輔\n",
      "導演                                                     八田洋介\n",
      "副導演                                                    今井有文\n",
      "劇本統籌                                                   岸本 卓\n",
      "人物設計                                                  野崎あつこ\n",
      "總作畫監督                                       '野崎あつこ', '河毛雅妃'\n",
      "配角人物設計                                                 河毛雅妃\n",
      "チーフ演出                                                  渕上 真\n",
      "主動畫師                                 '大城 勝', '小笠原真', '藤井 望'\n",
      "美術監督                                                   金子雄司\n",
      "美術設定                                                   藤井一志\n",
      "色彩設計                                                   橋本 賢\n",
      "撮影監督                                        '出水田和人', '上田程之'\n",
      "編集                                                     廣瀬清志\n",
      "音樂                                                   MAYUKO\n",
      "音響効果                                                   緒方康恭\n",
      "音效指導                                                えびなやすのり\n",
      "動畫製作人                                                 岡田麻衣子\n",
      "動畫製作                                             WIT STUDIO\n",
      "聲優        '日向未南', '村瀬歩', '梶 裕貴', '佐藤利奈', '江口拓也', '上田燿司',...\n",
      "dtype: object\n"
     ]
    }
   ],
   "source": [
    "print(a)"
   ]
  },
  {
   "cell_type": "code",
   "execution_count": 25,
   "metadata": {},
   "outputs": [
    {
     "data": {
      "text/plain": [
       "\"'日向未南', '村瀬歩', '梶 裕貴', '佐藤利奈', '江口拓也', '上田燿司', '安元洋貴', '田所陽向', '山下大輝'\""
      ]
     },
     "execution_count": 25,
     "metadata": {},
     "output_type": "execute_result"
    }
   ],
   "source": [
    "a['聲優']"
   ]
  },
  {
   "cell_type": "code",
   "execution_count": 79,
   "metadata": {},
   "outputs": [
    {
     "data": {
      "text/plain": [
       "array(['國王排名', '202201', '十日草輔', '八田洋介', '今井有文', '岸本 卓', '野崎あつこ',\n",
       "       \"['野崎あつこ', '河毛雅妃']\", '河毛雅妃', '渕上 真', \"['大城 勝', '小笠原真', '藤井 望']\",\n",
       "       '金子雄司', '藤井一志', '橋本 賢', \"['出水田和人', '上田程之']\", '廣瀬清志', 'MAYUKO',\n",
       "       '緒方康恭', 'えびなやすのり', '岡田麻衣子', 'WIT STUDIO',\n",
       "       \"['日向未南', '村瀬歩', '梶 裕貴', '佐藤利奈', '江口拓也', '上田燿司', '安元洋貴', '田所陽向', '山下大輝']\"],\n",
       "      dtype=object)"
      ]
     },
     "execution_count": 79,
     "metadata": {},
     "output_type": "execute_result"
    }
   ],
   "source": [
    "b"
   ]
  },
  {
   "cell_type": "code",
   "execution_count": 72,
   "metadata": {},
   "outputs": [
    {
     "data": {
      "text/plain": [
       "\"['日向未南', '村瀬歩', '梶 裕貴', '佐藤利奈', '江口拓也', '上田燿司', '安元洋貴', '田所陽向', '山下大輝']\""
      ]
     },
     "execution_count": 72,
     "metadata": {},
     "output_type": "execute_result"
    }
   ],
   "source": [
    "a['聲優']"
   ]
  },
  {
   "cell_type": "code",
   "execution_count": null,
   "metadata": {},
   "outputs": [],
   "source": [
    "anime_dict = {'原作':anime_staff_list[0], \n",
    "                '導演':anime_staff_list[1], \n",
    "                '副導演':anime_staff_list[2], \n",
    "                '劇本統籌':anime_staff_list[3], \n",
    "                '人物設計':anime_staff_list[4], \n",
    "                '總作畫監督':anime_staff_list[5], \n",
    "                '配角人物設計':anime_staff_list[6], \n",
    "                'チーフ演出':anime_staff_list[7], \n",
    "                '主動畫師':anime_staff_list[8], \n",
    "                '美術監督':anime_staff_list[9], \n",
    "                '美術設定':anime_staff_list[10], \n",
    "                '色彩設計':anime_staff_list[11], \n",
    "                '撮影監督':anime_staff_list[12], \n",
    "                '編集':anime_staff_list[13], \n",
    "                '音樂':anime_staff_list[14], \n",
    "                '音響効果':anime_staff_list[15], \n",
    "                '音效指導':anime_staff_list[16], \n",
    "                '動畫製作人':anime_staff_list[17], \n",
    "                '動畫製作':anime_staff_list[18]}"
   ]
  }
 ],
 "metadata": {
  "kernelspec": {
   "display_name": ".venv",
   "language": "python",
   "name": "python3"
  },
  "language_info": {
   "codemirror_mode": {
    "name": "ipython",
    "version": 3
   },
   "file_extension": ".py",
   "mimetype": "text/x-python",
   "name": "python",
   "nbconvert_exporter": "python",
   "pygments_lexer": "ipython3",
   "version": "3.12.0"
  }
 },
 "nbformat": 4,
 "nbformat_minor": 2
}
