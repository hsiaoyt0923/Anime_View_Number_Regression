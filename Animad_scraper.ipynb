{
 "cells": [
  {
   "cell_type": "code",
   "execution_count": 38,
   "metadata": {},
   "outputs": [],
   "source": [
    "import requests\n",
    "from bs4 import BeautifulSoup\n",
    "import pandas as pd\n",
    "import psycopg2\n",
    "import password as pw\n",
    "import time"
   ]
  },
  {
   "cell_type": "code",
   "execution_count": 39,
   "metadata": {},
   "outputs": [],
   "source": [
    "def download_data(url:str) -> list[list]:    \n",
    "    headers = {'user-agent': 'Mozilla/5.0 (Windows NT 10.0; Win64; x64) AppleWebKit/537.36 (KHTML, like Gecko) Chrome/119.0.0.0 Safari/537.36'}\n",
    "    r = requests.get(url, headers=headers)\n",
    "    r.encoding = 'utf8'\n",
    "    if r.status_code == 200:\n",
    "        print(f'請求成功：{r.status_code}')\n",
    "    else:\n",
    "        print(f'請求失敗：{r.status_code}')\n",
    "    intro_data = BeautifulSoup(r.text, 'html.parser')\n",
    "    anime_infos = intro_data.select('.theme-list-main')\n",
    "    anime_data = []\n",
    "    for anime_info in anime_infos:\n",
    "        show_view_number = anime_info.select_one('.show-view-number > p').text.strip()\n",
    "        anime_name = anime_info.select_one('.theme-name').text.strip()\n",
    "        anime_time = anime_info.select_one('.theme-time').text.strip().replace('年份：','')\n",
    "        anime_episode = anime_info.select_one('.theme-number').text.strip().replace('共','').replace('集','')\n",
    "        anime_link = 'https://ani.gamer.com.tw/' + anime_info['href']\n",
    "        time.sleep(0.2)\n",
    "        r1 = requests.get(anime_link, headers=headers)\n",
    "        r1.encoding = 'utf8'\n",
    "        detail_data = BeautifulSoup(r1.text, 'html.parser')\n",
    "        acg_score = detail_data.select_one('.acg-score')\n",
    "        star = acg_score.select_one('.score-overall-number').text.strip()\n",
    "        rating_people = acg_score.select_one('.score-overall-people').text.strip().replace('人評價', '').replace(',', '')\n",
    "        type_list = detail_data.select_one('.type-list')\n",
    "        staff = []\n",
    "        tags = []\n",
    "        pre_data = []\n",
    "        for p in type_list.find_all('p'):\n",
    "            staff.append(p.text)\n",
    "        for li in type_list.select('.tag'):\n",
    "            tags.append(li.text)\n",
    "        infos = [anime_name,show_view_number,anime_time,anime_episode,anime_link,star,rating_people,staff[1],staff[2],staff[3]]\n",
    "        pre_data.append(infos)\n",
    "        pre_data.append(tags)\n",
    "        anime_data.append(pre_data)\n",
    "        # print(f'動畫名:{anime_name}\\n觀看數:{show_view_number}\\n季度:{anime_time}\\n集數:{anime_episode}\\n動畫連結:{anime_link}\\n{star}\\n{rating_people}\\n導演:{staff[1]}\\n代理商:{staff[2]}\\n製作廠商:{staff[3]}\\n分類:{tags}\\n')\n",
    "    return anime_data"
   ]
  },
  {
   "cell_type": "code",
   "execution_count": 34,
   "metadata": {},
   "outputs": [],
   "source": [
    "def create_table(conn) -> None:\n",
    "    cursor = conn.cursor()\n",
    "    cursor.execute(\n",
    "        '''\n",
    "    CREATE TABLE  IF NOT EXISTS 巴哈姆特動畫瘋(\n",
    "\tid SERIAL,\n",
    "\t動畫名 TEXT NOT NULL,\n",
    "\t觀看數 TEXT NOT NULL,\n",
    "\t季度 TEXT NOT NULL,\n",
    "\t集數 TEXT NOT NULL,\n",
    "\t動畫連結 TEXT NOT NULL,\n",
    "\t星級 TEXT,\n",
    "\t評分人數 TEXT,\n",
    "\t導演監督 TEXT NOT NULL,\n",
    "\t台灣代理 TEXT NOT NULL,\n",
    "\t製作廠商 TEXT NOT NULL,\n",
    "\t作品分類1 TEXT DEFAULT NULL,\n",
    "\t作品分類2 TEXT DEFAULT NULL,\n",
    "\t作品分類3 TEXT DEFAULT NULL,\n",
    "\t作品分類4 TEXT DEFAULT NULL,\n",
    "\t作品分類5 TEXT DEFAULT NULL,\n",
    "\t作品分類6 TEXT DEFAULT NULL,\n",
    "\tPRIMARY KEY(id),\n",
    "\tUNIQUE(動畫名)\n",
    "    )\n",
    "        '''\n",
    "    )\n",
    "    cursor.close()\n",
    "    conn.commit()\n",
    "    \n",
    "def insert_data(conn, infos: list[str], tags: list[str]) -> None:\n",
    "    # 避免作品標籤超過6個\n",
    "    if len(tags) >= 7:\n",
    "        tags = [tags[i] for i in range(6)]\n",
    "    \n",
    "    # column_names的必備元素\n",
    "    column_names = [\n",
    "        \"動畫名\", \"觀看數\", \"季度\", \"集數\", \"動畫連結\",\n",
    "        \"星級\", \"評分人數\", \"導演監督\", \"台灣代理\", \"製作廠商\"\n",
    "    ]\n",
    "    \n",
    "    # 依作品標籤數量增加column_names\n",
    "    column_names += [f\"作品分類{i + 1}\" for i in range(len(tags))]\n",
    "\n",
    "    # 基礎insert_sql\n",
    "    insert_sql = f'''\n",
    "        INSERT INTO 巴哈姆特動畫瘋\n",
    "        ({','.join(column_names)})\n",
    "        VALUES({','.join(['%s'] * len(column_names))})\n",
    "        ON CONFLICT (動畫名) DO UPDATE SET \n",
    "    '''\n",
    "    # 基礎insert_sql + 更新內容\n",
    "    update_columns = [f\"{column_names[i]}='{infos[i]}'\" for i in range(1, 7)]\n",
    "    on_conflict_sql = ', '.join(update_columns)\n",
    "    insert_sql += on_conflict_sql\n",
    "\n",
    "    cursor = conn.cursor()\n",
    "    cursor.execute(insert_sql, infos + tags)\n",
    "    cursor.close()\n",
    "    conn.commit()\n",
    "\n",
    "def fetch_data(sql:str) -> list[tuple]:\n",
    "\tconn = psycopg2.connect(database=pw.DATABASE,\n",
    "                        user=pw.USER,\n",
    "                        password=pw.PASSWORD,\n",
    "                        host=pw.HOST,\n",
    "                        port=pw.PORT)\n",
    "\n",
    "\tcursor = conn.cursor()\n",
    "\tcursor.execute(sql)\n",
    "\trows = cursor.fetchall()\n",
    "\tconn.close()\n",
    "\treturn rows"
   ]
  },
  {
   "cell_type": "code",
   "execution_count": 35,
   "metadata": {},
   "outputs": [
    {
     "name": "stdout",
     "output_type": "stream",
     "text": [
      "請求成功：200\n"
     ]
    }
   ],
   "source": [
    "conn = psycopg2.connect(database=pw.DATABASE,\n",
    "                        user=pw.USER,\n",
    "                        password=pw.PASSWORD,\n",
    "                        host=pw.HOST,\n",
    "                        port=pw.PORT)\n",
    "data = download_data()\n",
    "create_table(conn)\n",
    "for infos_tags in data:\n",
    "    insert_data(conn, infos=infos_tags[0], tags=infos_tags[1])\n",
    "conn.close()"
   ]
  },
  {
   "cell_type": "code",
   "execution_count": null,
   "metadata": {},
   "outputs": [],
   "source": [
    "list = []"
   ]
  },
  {
   "cell_type": "code",
   "execution_count": null,
   "metadata": {},
   "outputs": [],
   "source": [
    "wan_list = []"
   ]
  },
  {
   "cell_type": "code",
   "execution_count": null,
   "metadata": {},
   "outputs": [],
   "source": [
    "for item in new_view_number_list:\n",
    "    if '萬' in item:\n",
    "        wan_list.append(item)"
   ]
  },
  {
   "cell_type": "code",
   "execution_count": null,
   "metadata": {},
   "outputs": [],
   "source": [
    "list.remove('統計中')"
   ]
  },
  {
   "cell_type": "code",
   "execution_count": null,
   "metadata": {},
   "outputs": [],
   "source": [
    "for i in range(len(list)):\n",
    "    list[i] = int(list[i])"
   ]
  },
  {
   "cell_type": "code",
   "execution_count": null,
   "metadata": {},
   "outputs": [],
   "source": [
    "list"
   ]
  },
  {
   "cell_type": "code",
   "execution_count": null,
   "metadata": {},
   "outputs": [],
   "source": [
    "for i in range(len(wan_list)):\n",
    "    n = wan_list[i].replace('萬', '')\n",
    "    wan_list[i] = int(float(n) * 10000)"
   ]
  },
  {
   "cell_type": "code",
   "execution_count": null,
   "metadata": {},
   "outputs": [],
   "source": [
    "view_number_list_in_number = wan_list + list"
   ]
  },
  {
   "cell_type": "code",
   "execution_count": null,
   "metadata": {},
   "outputs": [],
   "source": [
    "view_number_list_in_number"
   ]
  },
  {
   "cell_type": "code",
   "execution_count": null,
   "metadata": {},
   "outputs": [],
   "source": [
    "wan_list + list"
   ]
  },
  {
   "cell_type": "code",
   "execution_count": null,
   "metadata": {},
   "outputs": [],
   "source": [
    "import seaborn as sns\n",
    "import matplotlib.pyplot as plt\n",
    "\n",
    "# Your data\n",
    "x = view_number_list_in_number\n",
    "\n",
    "# Set up the figure and axes\n",
    "plt.figure(figsize=(10, 6))\n",
    "ax = sns.histplot(x, bins=1000)  # Adjust bins according to your data\n",
    "ax.set_xticks([j for j in range(1, 21)])\n",
    "\n",
    "plt.title('Histogram with Custom Axis Ticks')\n",
    "\n",
    "plt.show()"
   ]
  }
 ],
 "metadata": {
  "kernelspec": {
   "display_name": ".venv",
   "language": "python",
   "name": "python3"
  },
  "language_info": {
   "codemirror_mode": {
    "name": "ipython",
    "version": 3
   },
   "file_extension": ".py",
   "mimetype": "text/x-python",
   "name": "python",
   "nbconvert_exporter": "python",
   "pygments_lexer": "ipython3",
   "version": "3.12.0"
  }
 },
 "nbformat": 4,
 "nbformat_minor": 2
}
