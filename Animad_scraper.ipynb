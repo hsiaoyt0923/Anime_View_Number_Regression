{
 "cells": [
  {
   "cell_type": "code",
   "execution_count": null,
   "metadata": {},
   "outputs": [],
   "source": [
    "import requests\n",
    "from bs4 import BeautifulSoup\n",
    "import pandas as pd\n",
    "import psycopg2\n",
    "import password as pw\n",
    "import time"
   ]
  },
  {
   "cell_type": "code",
   "execution_count": null,
   "metadata": {},
   "outputs": [],
   "source": [
    "# view_number_list = []\n",
    "# for i in range(1, 58):\n",
    "#     url = f'https://ani.gamer.com.tw/animeList.php?page={i}'\n",
    "#     headers = {\n",
    "#         'user-agent': 'Mozilla/5.0 (Windows NT 10.0; Win64; x64) AppleWebKit/537.36 (KHTML, like Gecko) Chrome/119.0.0.0 Safari/537.36'}\n",
    "#     r = requests.get(url, headers=headers)\n",
    "#     r.encoding = 'utf8'\n",
    "#     if r.status_code == 200:\n",
    "#         print(f'請求成功：{r.status_code}')\n",
    "#     else:\n",
    "#         print(f'請求失敗：{r.status_code}')\n",
    "#     soup = BeautifulSoup(r.text, 'html.parser')\n",
    "#     show_view_number = soup.select('.show-view-number > p')\n",
    "#     for item in show_view_number:\n",
    "#         view_number_list.append(item.text)\n",
    "#     time.sleep(1)"
   ]
  },
  {
   "cell_type": "code",
   "execution_count": null,
   "metadata": {},
   "outputs": [],
   "source": [
    "url = 'https://ani.gamer.com.tw/animeList.php?page=1'\n",
    "headers = {\n",
    "    'user-agent': 'Mozilla/5.0 (Windows NT 10.0; Win64; x64) AppleWebKit/537.36 (KHTML, like Gecko) Chrome/119.0.0.0 Safari/537.36'}\n",
    "r = requests.get(url, headers=headers)\n",
    "r.encoding = 'utf8'\n",
    "if r.status_code == 200:\n",
    "    print(f'請求成功：{r.status_code}')\n",
    "else:\n",
    "    print(f'請求失敗：{r.status_code}')\n",
    "intro_data = BeautifulSoup(r.text, 'html.parser')"
   ]
  },
  {
   "cell_type": "code",
   "execution_count": null,
   "metadata": {},
   "outputs": [],
   "source": [
    "def download_data():\n",
    "    url = 'https://ani.gamer.com.tw/animeList.php?page=2'\n",
    "    headers = {'user-agent': 'Mozilla/5.0 (Windows NT 10.0; Win64; x64) AppleWebKit/537.36 (KHTML, like Gecko) Chrome/119.0.0.0 Safari/537.36'}\n",
    "    r = requests.get(url, headers=headers)\n",
    "    r.encoding = 'utf8'\n",
    "    if r.status_code == 200:\n",
    "        print(f'請求成功：{r.status_code}')\n",
    "    else:\n",
    "        print(f'請求失敗：{r.status_code}')\n",
    "    intro_data = BeautifulSoup(r.text, 'html.parser')\n",
    "    anime_infos = intro_data.select('.theme-list-main')\n",
    "    second_data = []\n",
    "    for anime_info in anime_infos:\n",
    "        show_view_number = anime_info.select_one('.show-view-number > p').text.strip()\n",
    "        anime_name = anime_info.select_one('.theme-name').text.strip()\n",
    "        anime_time = anime_info.select_one('.theme-time').text.strip().replace('年份：','')\n",
    "        anime_episode = anime_info.select_one('.theme-number').text.strip().replace('共','').replace('集','')\n",
    "        anime_link = 'https://ani.gamer.com.tw/' + anime_info['href']\n",
    "        time.sleep(0.3)\n",
    "        r1 = requests.get(anime_link, headers=headers)\n",
    "        r1.encoding = 'utf8'\n",
    "        detail_data = BeautifulSoup(r1.text, 'html.parser')\n",
    "        acg_score = detail_data.select_one('.acg-score')\n",
    "        star = acg_score.select_one('.score-overall-number').text.strip()\n",
    "        rating_people = acg_score.select_one('.score-overall-people').text.strip().replace('人評價','')\n",
    "        type_list = detail_data.select_one('.type-list')\n",
    "        staff = []\n",
    "        tags = []\n",
    "        first_data = []\n",
    "        for p in type_list.find_all('p'):\n",
    "            staff.append(p.text)\n",
    "        for li in type_list.select('.tag'):\n",
    "            tags.append(li.text)\n",
    "        infos = [anime_name,show_view_number,anime_time,anime_episode,anime_link,star,rating_people,staff[1],staff[2],staff[3]]\n",
    "        first_data.append(infos)\n",
    "        first_data.append(tags)\n",
    "        second_data.append(first_data)\n",
    "        print(f'動畫名:{anime_name}\\n觀看數:{show_view_number}\\n季度:{anime_time}\\n集數:{anime_episode}\\n動畫連結:{anime_link}\\n{star}\\n{rating_people}\\n導演:{staff[1]}\\n代理商:{staff[2]}\\n製作廠商:{staff[3]}\\n分類:{tags}\\n')\n",
    "    return second_data"
   ]
  },
  {
   "cell_type": "code",
   "execution_count": null,
   "metadata": {},
   "outputs": [],
   "source": [
    "data = download_data()\n"
   ]
  },
  {
   "cell_type": "code",
   "execution_count": null,
   "metadata": {},
   "outputs": [],
   "source": [
    "data"
   ]
  },
  {
   "cell_type": "code",
   "execution_count": null,
   "metadata": {},
   "outputs": [],
   "source": [
    "data[0]"
   ]
  },
  {
   "cell_type": "code",
   "execution_count": null,
   "metadata": {},
   "outputs": [],
   "source": [
    "def create_table(conn) -> None:\n",
    "    cursor = conn.cursor()\n",
    "    cursor.execute(\n",
    "        '''\n",
    "    CREATE TABLE  IF NOT EXISTS 巴哈姆特動畫瘋(\n",
    "\tid SERIAL,\n",
    "\t動畫名 TEXT NOT NULL,\n",
    "\t觀看數 TEXT NOT NULL,\n",
    "\t季度 TEXT NOT NULL,\n",
    "\t集數 TEXT NOT NULL,\n",
    "\t動畫連結 TEXT NOT NULL,\n",
    "\t星級 TEXT,\n",
    "\t評分人數 TEXT,\n",
    "\t導演監督 TEXT NOT NULL,\n",
    "\t台灣代理 TEXT NOT NULL,\n",
    "\t製作廠商 TEXT NOT NULL,\n",
    "\t作品分類1 TEXT DEFAULT NULL,\n",
    "\t作品分類2 TEXT DEFAULT NULL,\n",
    "\t作品分類3 TEXT DEFAULT NULL,\n",
    "\t作品分類4 TEXT DEFAULT NULL,\n",
    "\t作品分類5 TEXT DEFAULT NULL,\n",
    "\tPRIMARY KEY(id),\n",
    "\tUNIQUE(動畫名)\n",
    "    )\n",
    "        '''\n",
    "    )\n",
    "    cursor.close()\n",
    "    conn.commit()\n",
    "\n",
    "def insert_data(conn, infos:list[str], tags:list[str]) -> None:\n",
    "\tvalues = infos + tags\n",
    "\tif len(tags) == 0:\n",
    "\t\tsql = '''\n",
    "\t\t\tINSERT INTO 巴哈姆特動畫瘋\n",
    "\t\t\t(動畫名,觀看數,季度,集數,動畫連結,星級,評分人數,導演監督,台灣代理,製作廠商)\n",
    "\t\t\tVALUES(%s,%s,%s,%s,%s,%s,%s,%s,%s,%s)\n",
    "\t\t\tON CONFLICT (動畫名) DO NOTHING\n",
    "\t\t\t'''\n",
    "\telif len(tags) == 1:\n",
    "\t\tsql = '''\n",
    "\t\t\tINSERT INTO 巴哈姆特動畫瘋\n",
    "\t\t\t(動畫名,觀看數,季度,集數,動畫連結,星級,評分人數,導演監督,台灣代理,製作廠商,作品分類1)\n",
    "\t\t\tVALUES(%s,%s,%s,%s,%s,%s,%s,%s,%s,%s,%s)\n",
    "\t\t\tON CONFLICT (動畫名) DO NOTHING\n",
    "\t\t\t'''\n",
    "\telif len(tags) == 2:\n",
    "\t\tsql = '''\n",
    "\t\t\tINSERT INTO 巴哈姆特動畫瘋\n",
    "\t\t\t(動畫名,觀看數,季度,集數,動畫連結,星級,評分人數,導演監督,台灣代理,製作廠商,作品分類1,作品分類2)\n",
    "\t\t\tVALUES(%s,%s,%s,%s,%s,%s,%s,%s,%s,%s,%s,%s)\n",
    "\t\t\tON CONFLICT (動畫名) DO NOTHING\n",
    "\t\t\t'''\n",
    "\telif len(tags) == 3:\n",
    "\t\tsql = '''\n",
    "\t\t\tINSERT INTO 巴哈姆特動畫瘋\n",
    "\t\t\t(動畫名,觀看數,季度,集數,動畫連結,星級,評分人數,導演監督,台灣代理,製作廠商,作品分類1,作品分類2,作品分類3)\n",
    "\t\t\tVALUES(%s,%s,%s,%s,%s,%s,%s,%s,%s,%s,%s,%s,%s)\n",
    "\t\t\tON CONFLICT (動畫名) DO NOTHING\n",
    "\t\t\t'''\n",
    "\telif len(tags) == 4:\n",
    "\t\tsql = '''\n",
    "\t\t\tINSERT INTO 巴哈姆特動畫瘋\n",
    "\t\t\t(動畫名,觀看數,季度,集數,動畫連結,星級,評分人數,導演監督,台灣代理,製作廠商,作品分類1,作品分類2,作品分類3,作品分類4)\n",
    "\t\t\tVALUES(%s,%s,%s,%s,%s,%s,%s,%s,%s,%s,%s,%s,%s,%s)\n",
    "\t\t\tON CONFLICT (動畫名) DO NOTHING\n",
    "\t\t\t'''\n",
    "\telif len(tags) == 5:\n",
    "\t\tsql = '''\n",
    "\t\t\tINSERT INTO 巴哈姆特動畫瘋\n",
    "\t\t\t(動畫名,觀看數,季度,集數,動畫連結,星級,評分人數,導演監督,台灣代理,製作廠商,作品分類1,作品分類2,作品分類3,作品分類4,作品分類5)\n",
    "\t\t\tVALUES(%s,%s,%s,%s,%s,%s,%s,%s,%s,%s,%s,%s,%s,%s,%s)\n",
    "\t\t\tON CONFLICT (動畫名) DO NOTHING\n",
    "\t\t\t'''\n",
    "\telse:\n",
    "\t\tvalues = infos + [tags[0], tags[1], tags[2], tags[3], tags[4]]\n",
    "\t\tsql = '''\n",
    "\t\t\tINSERT INTO 巴哈姆特動畫瘋\n",
    "\t\t\t(動畫名,觀看數,季度,集數,動畫連結,星級,評分人數,導演監督,台灣代理,製作廠商,作品分類1,作品分類2,作品分類3,作品分類4,作品分類5)\n",
    "\t\t\tVALUES(%s,%s,%s,%s,%s,%s,%s,%s,%s,%s,%s,%s,%s,%s,%s)\n",
    "\t\t\tON CONFLICT (動畫名) DO NOTHING\n",
    "\t\t\t'''\n",
    "\tcursor = conn.cursor()\n",
    "\tcursor.execute(sql, values)\n",
    "\tcursor.close()\n",
    "\tconn.commit()"
   ]
  },
  {
   "cell_type": "code",
   "execution_count": null,
   "metadata": {},
   "outputs": [],
   "source": [
    "conn = psycopg2.connect(database=pw.DATABASE,\n",
    "                        user=pw.USER,\n",
    "                        password=pw.PASSWORD,\n",
    "                        host=pw.HOST,\n",
    "                        port=pw.PORT)\n",
    "\n",
    "create_table(conn)\n",
    "for anime_list in data:\n",
    "    insert_data(conn,infos=anime_list[0],tags=anime_list[1])"
   ]
  },
  {
   "cell_type": "code",
   "execution_count": null,
   "metadata": {},
   "outputs": [],
   "source": [
    "acg_score = detail_data.select_one('.acg-score')\n",
    "star = acg_score.select_one('.score-overall-number')\n",
    "rating_people = acg_score.select_one('.score-overall-people')\n",
    "print(star.text, rating_people.text)"
   ]
  },
  {
   "cell_type": "code",
   "execution_count": null,
   "metadata": {},
   "outputs": [],
   "source": [
    "type_list = detail_data.select_one('.type-list')"
   ]
  },
  {
   "cell_type": "code",
   "execution_count": null,
   "metadata": {},
   "outputs": [],
   "source": [
    "print(type_list.find_all('span'))\n",
    "print(type_list.find_all('p'))\n",
    "print(type_list.select('.tag'))"
   ]
  },
  {
   "cell_type": "code",
   "execution_count": null,
   "metadata": {},
   "outputs": [],
   "source": [
    "for p in type_list.find_all('p'):\n",
    "    print(p.text)\n",
    "for li in type_list.select('.tag'):\n",
    "    print(li.text)"
   ]
  },
  {
   "cell_type": "code",
   "execution_count": null,
   "metadata": {},
   "outputs": [],
   "source": [
    "new_view_number_list"
   ]
  },
  {
   "cell_type": "code",
   "execution_count": null,
   "metadata": {},
   "outputs": [],
   "source": [
    "list = []"
   ]
  },
  {
   "cell_type": "code",
   "execution_count": null,
   "metadata": {},
   "outputs": [],
   "source": [
    "wan_list = []"
   ]
  },
  {
   "cell_type": "code",
   "execution_count": null,
   "metadata": {},
   "outputs": [],
   "source": [
    "for item in new_view_number_list:\n",
    "    if '萬' in item:\n",
    "        wan_list.append(item)"
   ]
  },
  {
   "cell_type": "code",
   "execution_count": null,
   "metadata": {},
   "outputs": [],
   "source": [
    "list.remove('統計中')"
   ]
  },
  {
   "cell_type": "code",
   "execution_count": null,
   "metadata": {},
   "outputs": [],
   "source": [
    "for i in range(len(list)):\n",
    "    list[i] = int(list[i])"
   ]
  },
  {
   "cell_type": "code",
   "execution_count": null,
   "metadata": {},
   "outputs": [],
   "source": [
    "list"
   ]
  },
  {
   "cell_type": "code",
   "execution_count": null,
   "metadata": {},
   "outputs": [],
   "source": [
    "for i in range(len(wan_list)):\n",
    "    n = wan_list[i].replace('萬', '')\n",
    "    wan_list[i] = int(float(n) * 10000)"
   ]
  },
  {
   "cell_type": "code",
   "execution_count": null,
   "metadata": {},
   "outputs": [],
   "source": [
    "view_number_list_in_number = wan_list + list"
   ]
  },
  {
   "cell_type": "code",
   "execution_count": null,
   "metadata": {},
   "outputs": [],
   "source": [
    "view_number_list_in_number"
   ]
  },
  {
   "cell_type": "code",
   "execution_count": null,
   "metadata": {},
   "outputs": [],
   "source": [
    "wan_list + list"
   ]
  },
  {
   "cell_type": "code",
   "execution_count": null,
   "metadata": {},
   "outputs": [],
   "source": [
    "import seaborn as sns\n",
    "import matplotlib.pyplot as plt\n",
    "\n",
    "# Your data\n",
    "x = view_number_list_in_number\n",
    "\n",
    "# Set up the figure and axes\n",
    "plt.figure(figsize=(10, 6))\n",
    "ax = sns.histplot(x, bins=1000)  # Adjust bins according to your data\n",
    "ax.set_xticks([j for j in range(1, 21)])\n",
    "\n",
    "plt.title('Histogram with Custom Axis Ticks')\n",
    "\n",
    "plt.show()"
   ]
  },
  {
   "cell_type": "code",
   "execution_count": null,
   "metadata": {},
   "outputs": [],
   "source": [
    "if item == '統計中':\n",
    "            new_view_number_list.append(0)\n",
    "            new_view_number_list.remove(item)\n",
    "        elif int(item) < 1000:\n",
    "            new_view_number_list.append(0)\n",
    "            new_view_number_list.remove(item)\n",
    "        elif 2000 > int(item) >= 1000:\n",
    "            new_view_number_list.append(0.1)\n",
    "            new_view_number_list.remove(item)\n",
    "        elif 3000 > int(item) >= 2000:\n",
    "            new_view_number_list.append(0.2)\n",
    "            new_view_number_list.remove(item)\n",
    "        elif 4000 > int(item) >= 3000:\n",
    "            new_view_number_list.append(0.3)\n",
    "            new_view_number_list.remove(item)\n",
    "        elif 5000 > int(item) >= 4000:\n",
    "            new_view_number_list.append(0.4)\n",
    "            new_view_number_list.remove(item)\n",
    "        elif 6000 > int(item) >= 5000:\n",
    "            new_view_number_list.append(0.5)\n",
    "            new_view_number_list.remove(item)\n",
    "        elif 7000 > int(item) >= 6000:\n",
    "            new_view_number_list.append(0.6)\n",
    "            new_view_number_list.remove(item)\n",
    "        elif 8000 > int(item) >= 7000:\n",
    "            new_view_number_list.append(0.7)\n",
    "            new_view_number_list.remove(item)\n",
    "        elif 9000 > int(item) >= 8000:\n",
    "            new_view_number_list.append(0.8)\n",
    "            new_view_number_list.remove(item)\n",
    "        elif 10000 > int(item) >= 9000:\n",
    "            new_view_number_list.append(0.9)\n",
    "            new_view_number_list.remove(item)"
   ]
  }
 ],
 "metadata": {
  "kernelspec": {
   "display_name": ".venv",
   "language": "python",
   "name": "python3"
  },
  "language_info": {
   "codemirror_mode": {
    "name": "ipython",
    "version": 3
   },
   "file_extension": ".py",
   "mimetype": "text/x-python",
   "name": "python",
   "nbconvert_exporter": "python",
   "pygments_lexer": "ipython3",
   "version": "3.12.0"
  }
 },
 "nbformat": 4,
 "nbformat_minor": 2
}
