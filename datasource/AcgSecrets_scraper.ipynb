{
 "cells": [
  {
   "cell_type": "code",
   "execution_count": 1,
   "metadata": {},
   "outputs": [],
   "source": [
    "import requests\n",
    "from bs4 import BeautifulSoup\n",
    "import psycopg2\n",
    "import password as pw\n",
    "import random\n",
    "from fake_useragent import UserAgent"
   ]
  },
  {
   "cell_type": "code",
   "execution_count": 2,
   "metadata": {},
   "outputs": [
    {
     "name": "stdout",
     "output_type": "stream",
     "text": [
      "請求成功：200\n"
     ]
    }
   ],
   "source": [
    "# 建立隨機user_agent\n",
    "user_agent = UserAgent()\n",
    "\n",
    "# 開始爬蟲\n",
    "response = requests.get('https://acgsecrets.hk/bangumi/202001/', headers={\n",
    "                        \"User-Agent\": user_agent.random, \"Referer\": 'https://www.google.com.tw/', })\n",
    "response.encoding = 'utf8'\n",
    "if response.status_code == 200:\n",
    "    print(f'請求成功：{response.status_code}')\n",
    "else:\n",
    "    print(f'請求失敗：{response.status_code}')\n",
    "\n",
    "soup = BeautifulSoup(response.text, 'html.parser')"
   ]
  },
  {
   "cell_type": "code",
   "execution_count": 10,
   "metadata": {},
   "outputs": [
    {
     "name": "stdout",
     "output_type": "stream",
     "text": [
      "[['とある科学の超電磁砲＜レールガン＞T', 'とある科学の超電磁砲レールガンT', '某科學的超電磁砲T', '某科学的超电磁炮T', '科学超电磁炮T', '科學超電磁砲T'], ['漫畫改編', '續作']]\n",
      "[['Magia Record: Mahou Shoujo Madoka☆Magica Gaiden', '魔法纪录 魔法少女小圆外传', '魔法紀錄 魔法少女小圓外傳'], ['遊戲改編', '新作']]\n",
      "[[\"Darwin's Game\", '达尔文游戏', '達爾文遊戲'], ['漫畫改編', '新作']]\n",
      "[['戀愛小行星', 'Koisuru Asteroid', '恋爱小行星', '恋爱中的小行星', '戀愛中的小行星'], ['漫畫改編', '新作']]\n",
      "[['異度侵入', '异度侵入 ID:INVADED', '异度侵入', '異度侵入 ID:INVADED'], ['原創作品', '新作']]\n",
      "[['Infinite Dendrogram 無盡連鎖', '無盡連鎖', 'Infinite Dendrogram', '〈Infinite Dendrogram〉-无尽连锁-', 'Infinite Dendrogram 无尽连锁', '无尽连锁', '〈Infinite Dendrogram〉-無盡連鎖-'], ['改編作品', '新作']]\n",
      "[['理科生墜入情網，故嘗試證明。', 'Rikei ga Koi ni Ochita no de Shoumei shitemita.', '理科生坠入情网，故尝试证明。', '试证明理科生已坠入情网。', '試證明理科生已墜入情網。'], ['漫畫改編', '新作']]\n",
      "[['Itai no wa Iya nano de Bougyoryoku ni Kyokufuri Shitai to Omoimasu.', '怕痛的我，把防御力点满就对了', '怕痛的我，把防禦力點滿就對了'], ['小說改編', '新作']]\n",
      "[['房間露營△', '室內露營△', 'Heya Camp△', '室内露营△', '房屋露营△', '房间露營△', '房屋露營△'], ['漫畫改編', '續作']]\n",
      "[['思維覆寫', '思维覆写', 'pet'], ['漫畫改編', '新作']]\n",
      "[['Haikyuu!!: To the Top', '排球少年!! TO THE TOP'], ['漫畫改編', '續作']]\n",
      "[['Eizouken ni wa Te wo Dasu na!', '别对映像研出手!', '別對映像研出手！'], ['漫畫改編', '新作']]\n",
      "[['Boku no Tonari ni Ankoku Hakaishin ga Imasu.', 'A Destructive God Sits Next to Me, Bokuhaka', '暗黑破坏神在身边。', '暗黑破壞神在身邊。'], ['漫畫改編', '新作']]\n",
      "[['Kyokou Suiri', 'In/Spectre', '虚构推理', '虛構推理'], ['小說改編', '新作']]\n",
      "[['星掠者', 'Plunderer', '掠夺者', '掠奪者'], ['漫畫改編', '新作']]\n",
      "[['Nekopara', '猫娘乐园', '貓娘樂園'], ['遊戲改編', '新作']]\n",
      "[['', '22/7'], ['原創作品', '新作']]\n",
      "[['神推偶像登上武道馆我就死而无憾', '神推偶像登上武道館我就死而無憾'], ['漫畫改編', '新作']]\n",
      "[['Jibaku Shounen Hanako-kun', '地缚少年花子君', '地縛少年花子君'], ['漫畫改編', '新作']]\n",
      "[['Ishuzoku Reviewers', '异种族风俗娘评鉴指南', '異種族風俗娘評鑑指南'], ['漫畫改編', '新作']]\n",
      "[['奇幻☆怪盜', '奇幻怪盜', '奇幻☆怪盗', '奇幻☆怪盗？', '奇幻怪盗', '奇幻☆怪盜？'], ['小說改編', '新作']]\n",
      "[['Somali to Mori no Kamisama', 'Somali and the Forest Spirit', '索玛丽与森林之神', '索瑪麗與森林之神'], ['漫畫改編', '新作']]\n",
      "[['Murenase! Seton Gakuen', '成群结伴！西顿学园', '成群結伴！西頓學園'], ['漫畫改編', '新作']]\n",
      "[['Runway de Waratte', 'Smile at the Runway', '请在伸展台上微笑', '請在伸展台上微笑'], ['漫畫改編', '新作']]\n",
      "[['Kuutei Dragons', '空挺Dragons'], ['漫畫改編', '新作']]\n",
      "[['Isekai Quartet 2nd Season', '异世界四重奏2', '異世界四重奏2'], ['改編作品', '續作']]\n",
      "[['BanG Dream！第3期', 'BanG Dream! 3rd Season'], ['遊戲改編', '續作']]\n",
      "[['Dorohedoro', '异兽魔都', '異獸魔都'], ['漫畫改編', '新作']]\n",
      "[['SHOW BY ROCK!! Mashumairesh!!', '摇滚少女!! 活力棉花糖!!', '搖滾少女!! 活力棉花糖!!'], ['遊戲改編', '續作']]\n",
      "[['UCHITAMA？！～貓狗寵物街～ ', '家有圓圓?!～我家的圓圓你知道嗎～', 'Uchi Tama?! Uchi no Tama Shirimasen ka?', '家有圆圆?!～我家的圆圆你知道吗～', '我家汤玛？ ！ ～有没有看到我们家的汤玛？ ～', 'UCHITAMA？ ！ ～猫狗宠物街～', '我家湯瑪？！ ～有沒有看到我們家的湯瑪？～'], ['改編作品', '新作']]\n",
      "[['寶石商人理查德的謎鑑定', 'Housekishou Richard-shi no Nazo Kantei', '宝石商人理查德的谜鉴定', '宝石商人理察的谜鉴定', '寶石商人理察的謎鑑定'], ['小說改編', '新作']]\n",
      "[['八十亀ちゃんかんさつにっき 第2期', 'Yatogame-chan Kansatsu Nikki 2nd Season', '八十龟观察日记 第2册', '八十龜醬觀察日記 第2冊'], ['漫畫改編', '續作']]\n",
      "[['りばあす', 'Rebirth', 'ReBIRTH for you'], ['遊戲改編', '新作']]\n",
      "[['Oda Cinnamon Nobunaga', '织田肉桂信长', '織田肉桂信長'], ['漫畫改編', '新作']]\n",
      "[['', 'BREAKERS'], ['原創作品', '新作']]\n",
      "[['魔術士歐菲流浪之旅', '魔術士歐菲', '魔术士欧菲流浪之旅', '魔术士欧菲', '魔法少年'], ['小說改編', '新作']]\n",
      "[['', 'number24'], ['原創作品', '新作']]\n",
      "[['', 'A3! SEASON SPRING & SUMMER'], ['遊戲改編', '新作']]\n",
      "[['', 'ARP Backstage Pass'], ['原創作品', '新作']]\n",
      "[['', 'Hulaing Babies☆Petit'], ['原創作品', '續作']]\n",
      "[[\"Healin' Good♡Precure\", \"Healin' Good♥光之美少女\"], ['原創作品', '新作']]\n",
      "[['Natsunagu!', '缘结熊本', '緣結熊本'], ['原創作品', '新作']]\n",
      "[['', 'Overflow'], ['漫畫改編', '新作']]\n",
      "[['Sword Art Online: Alicization War of Underworld', '刀剑神域 Alicization War of Underworld', '刀劍神域 Alicization War of Underworld'], ['小說改編', '續作']]\n",
      "[['Fate/Grand Order - Absolute Demonic Front: Babylonia', 'Fate/Grand Order -绝对魔兽战线巴比伦尼亚-', 'Fate/Grand Order -絕對魔獸戰線巴比倫尼亞-'], ['遊戲改編', '新作']]\n",
      "[['Mairimashita! Iruma-kun', '入间同学入魔了！', '入間同學入魔了！'], ['漫畫改編', '新作']]\n",
      "[['Kabukichou Sherlock', '歌舞伎町夏洛克'], ['原創作品', '新作']]\n",
      "[['虛空魔法使 第二季', 'Radiant Season 2', 'Radiant 虚空魔境 第二季', '虚空魔法使 第二季', 'Radiant 虛空魔境 第二季'], ['漫畫改編', '續作']]\n",
      "[['夢幻之星Online 2 Episode Oracle', 'Phantasy Star Online 2: Episode Oracle', '梦幻之星Online2 EPISODE ORACLE', '夢幻之星 Online 2 神諭篇章'], ['遊戲改編', '續作']]\n",
      "[['Fairy Gone Season 2', 'Fairy Gone 第二季'], ['原創作品', '續作']]\n",
      "[['Go Astro Boy Go !', 'Go! Go! Atom', 'GO！GO！阿童木'], ['漫畫改編', '新作']]\n"
     ]
    }
   ],
   "source": [
    "# # 建立隨機user_agent\n",
    "# user_agent = UserAgent()\n",
    "\n",
    "# # 開始爬蟲\n",
    "# response = requests.get('https://acgsecrets.hk/bangumi/202001/', headers={\n",
    "#                         \"User-Agent\": user_agent.random, \"Referer\": 'https://www.google.com.tw/', })\n",
    "# response.encoding = 'utf8'\n",
    "# if response.status_code == 200:\n",
    "#     print(f'請求成功：{response.status_code}')\n",
    "# else:\n",
    "#     print(f'請求失敗：{response.status_code}')\n",
    "\n",
    "# soup = BeautifulSoup(response.text, 'html.parser')\n",
    "anime_contents = soup.select('.anime_content')\n",
    "anime_tags = []\n",
    "\n",
    "\n",
    "for anime_content in anime_contents:\n",
    "    per_anime= []\n",
    "    anime_name = anime_content.select_one('.entity_localized_name').text\n",
    "    other_names = anime_content.select_one('.anime_summary > i')\n",
    "    if other_names is None:\n",
    "        other_names = ''\n",
    "    else:\n",
    "        other_names = other_names.text.replace('其他名稱：','')\n",
    "    name_list = other_names.split('、') + [anime_name]\n",
    "    tags = anime_content.select('.anime_tag > tags')\n",
    "    tag_list = []\n",
    "    for tag in tags:\n",
    "        tag_list.append(tag.text)\n",
    "    tag_list = [tag_list[i] for i in range(2)]\n",
    "    per_anime.append(name_list)\n",
    "    per_anime.append(tag_list)\n",
    "    anime_tags.append(per_anime)\n",
    "    \n",
    "    "
   ]
  },
  {
   "cell_type": "code",
   "execution_count": 3,
   "metadata": {},
   "outputs": [],
   "source": [
    "# acgs-anime-list > div.clear-both.acgs-anime-block.CV-search.anime-type-continue.anime-type-game.anime-cv-小野大輔.anime-cv-下野紘.anime-cv-木村良平.anime-cv-飛田展男.anime-cv-佐藤聡美.anime-cv-日笠陽子.anime-cv-花澤香菜.anime-cv-緒方恵美.anime-cv-櫻井孝宏 > div > div > div.anime_content > div.anime_data > div.anime_txts > div:nth-child(1) > i"
   ]
  },
  {
   "cell_type": "code",
   "execution_count": 4,
   "metadata": {},
   "outputs": [],
   "source": [
    "soup = BeautifulSoup(r.text, 'html.parser')"
   ]
  },
  {
   "cell_type": "code",
   "execution_count": 5,
   "metadata": {},
   "outputs": [],
   "source": [
    "anime_list_202201 = []"
   ]
  },
  {
   "cell_type": "code",
   "execution_count": 6,
   "metadata": {},
   "outputs": [],
   "source": [
    "anime_contents = soup.select('.anime_content')\n",
    "for anime_content in anime_contents:\n",
    "    for steam_site_name in anime_content.select('.steam-site-name'):\n",
    "        if '巴哈姆特動畫瘋' in steam_site_name.text:\n",
    "\n",
    "            anime_name = anime_content.select_one('.entity_localized_name')  \n",
    "            anime_staffs = anime_content.select(\n",
    "                '.anime_staff > div')  # ResultSet\n",
    "\n",
    "            anime_data_list = [['作品名', [anime_name.text]], ['季度', ['202201']]]\n",
    "            for anime_staff in anime_staffs:  # ResultSet\n",
    "                role = anime_staff.select_one('.type').text  # string\n",
    "                staffs = anime_staff.select('.entities')  # ResultSet\n",
    "                staff_list = []\n",
    "                for staff in staffs:  # Tag\n",
    "                    staff_list.append(staff.text)\n",
    "                anime_data_list += [[role, staff_list]]\n",
    "\n",
    "            anime_casts = anime_content.select(\n",
    "                '.anime_cast > .anime_person > .entities')\n",
    "            anime_cast_list = []\n",
    "            for anime_cast in anime_casts:\n",
    "                anime_cast_list.append(anime_cast.text)\n",
    "            anime_data_list += [['聲優', anime_cast_list]]\n",
    "            anime_list_202201.append(anime_data_list)"
   ]
  },
  {
   "cell_type": "code",
   "execution_count": 9,
   "metadata": {},
   "outputs": [],
   "source": [
    "anime_contents = soup.select('.anime_content')\n",
    "anime_tags_202201 = []\n",
    "for anime_content in anime_contents:\n",
    "    for steam_site_name in anime_content.select('.steam-site-name'):\n",
    "        if '巴哈姆特動畫瘋' in steam_site_name.text:\n",
    "            anime_name = anime_content.select_one('.entity_localized_name').text\n",
    "            tag_list = [anime_name]\n",
    "            tags = anime_content.select('.anime_tag > tags')\n",
    "            for tag in tags:\n",
    "                tag_list.append(tag.text)\n",
    "            tag_list = [tag_list[i] for i in range(3)]\n",
    "            anime_tags_202201.append(tag_list)"
   ]
  },
  {
   "cell_type": "code",
   "execution_count": 12,
   "metadata": {},
   "outputs": [
    {
     "data": {
      "text/plain": [
       "[['進擊的巨人 The Final Season Part 2', '漫畫改編', '續作'],\n",
       " ['自稱賢者弟子的賢者', '小說改編', '新作'],\n",
       " ['戀上換裝娃娃', '漫畫改編', '新作'],\n",
       " ['平凡職業造就世界最強 第二季', '小說改編', '續作'],\n",
       " ['天才王子的赤字國家重生術', '小說改編', '新作'],\n",
       " ['食鏽末世錄', '小說改編', '新作'],\n",
       " ['擅長捉弄人的高木同學3', '漫畫改編', '續作'],\n",
       " ['與成為異世界美少女的大叔一起', '漫畫改編', '新作'],\n",
       " ['失格紋的最強賢者', '小說改編', '新作'],\n",
       " ['現實主義勇者的王國重建記 第二部', '小說改編', '續作'],\n",
       " ['終末的後宮', '漫畫改編', '新作'],\n",
       " ['相愛相殺', '漫畫改編', '新作'],\n",
       " [\"Ryman's Club\", '原創作品', '新作'],\n",
       " ['東京24區', '原創作品', '新作'],\n",
       " ['明日同學的水手服', '漫畫改編', '新作'],\n",
       " ['少女前線', '遊戲改編', '新作'],\n",
       " ['薔薇王的葬列', '漫畫改編', '新作'],\n",
       " ['ORIENT 東方少年', '漫畫改編', '新作'],\n",
       " ['怪人開發部的黑井津小姐', '漫畫改編', '新作'],\n",
       " ['最遊記RELOAD -ZEROIN-', '漫畫改編', '續作'],\n",
       " ['瓦尼塔斯的手札 第二季度', '漫畫改編', '續作'],\n",
       " ['TRIBE NINE', '原創作品', '新作'],\n",
       " ['秘密內幕～女警的反擊～', '漫畫改編', '新作'],\n",
       " ['室內足球少年!!!!!', '原創作品', '新作'],\n",
       " ['佐佐木與宮野', '漫畫改編', '新作'],\n",
       " ['幻想三國誌—天元靈心記', '遊戲改編', '新作'],\n",
       " ['闇芝居 第十季', '改編作品', '續作'],\n",
       " ['鬼滅之刃 遊郭篇', '漫畫改編', '續作'],\n",
       " ['國王排名', '漫畫改編', '新作']]"
      ]
     },
     "execution_count": 12,
     "metadata": {},
     "output_type": "execute_result"
    }
   ],
   "source": [
    "anime_tags_202201"
   ]
  },
  {
   "cell_type": "code",
   "execution_count": 15,
   "metadata": {},
   "outputs": [],
   "source": [
    "for list in anime_list_202201:\n",
    "    dict = {}\n",
    "\n",
    "    for item in list:\n",
    "\n",
    "        if len(item[1]) == 1:\n",
    "            item[1] = item[1][0]\n",
    "        else:\n",
    "            item[1] = str(item[1]).replace('[', '').replace(']', '')\n",
    "        other = {item[0]: item[1]}\n",
    "        dict.update(other)"
   ]
  },
  {
   "cell_type": "code",
   "execution_count": 16,
   "metadata": {},
   "outputs": [
    {
     "data": {
      "text/plain": [
       "{'作品名': '國王排名',\n",
       " '季度': '202201',\n",
       " '原作': '十日草輔',\n",
       " '導演': '八田洋介',\n",
       " '副導演': '今井有文',\n",
       " '劇本統籌': '岸本 卓',\n",
       " '人物設計': '野崎あつこ',\n",
       " '總作畫監督': \"'野崎あつこ', '河毛雅妃'\",\n",
       " '配角人物設計': '河毛雅妃',\n",
       " 'チーフ演出': '渕上 真',\n",
       " '主動畫師': \"'大城 勝', '小笠原真', '藤井 望'\",\n",
       " '美術監督': '金子雄司',\n",
       " '美術設定': '藤井一志',\n",
       " '色彩設計': '橋本 賢',\n",
       " '撮影監督': \"'出水田和人', '上田程之'\",\n",
       " '編集': '廣瀬清志',\n",
       " '音樂': 'MAYUKO',\n",
       " '音響効果': '緒方康恭',\n",
       " '音效指導': 'えびなやすのり',\n",
       " '動畫製作人': '岡田麻衣子',\n",
       " '動畫製作': 'WIT STUDIO',\n",
       " '聲優': \"'日向未南', '村瀬歩', '梶 裕貴', '佐藤利奈', '江口拓也', '上田燿司', '安元洋貴', '田所陽向', '山下大輝'\"}"
      ]
     },
     "execution_count": 16,
     "metadata": {},
     "output_type": "execute_result"
    }
   ],
   "source": [
    "dict"
   ]
  },
  {
   "cell_type": "code",
   "execution_count": 17,
   "metadata": {},
   "outputs": [],
   "source": [
    "a = pd.Series(dict)"
   ]
  },
  {
   "cell_type": "code",
   "execution_count": 18,
   "metadata": {},
   "outputs": [
    {
     "name": "stdout",
     "output_type": "stream",
     "text": [
      "作品名                                                    國王排名\n",
      "季度                                                   202201\n",
      "原作                                                     十日草輔\n",
      "導演                                                     八田洋介\n",
      "副導演                                                    今井有文\n",
      "劇本統籌                                                   岸本 卓\n",
      "人物設計                                                  野崎あつこ\n",
      "總作畫監督                                       '野崎あつこ', '河毛雅妃'\n",
      "配角人物設計                                                 河毛雅妃\n",
      "チーフ演出                                                  渕上 真\n",
      "主動畫師                                 '大城 勝', '小笠原真', '藤井 望'\n",
      "美術監督                                                   金子雄司\n",
      "美術設定                                                   藤井一志\n",
      "色彩設計                                                   橋本 賢\n",
      "撮影監督                                        '出水田和人', '上田程之'\n",
      "編集                                                     廣瀬清志\n",
      "音樂                                                   MAYUKO\n",
      "音響効果                                                   緒方康恭\n",
      "音效指導                                                えびなやすのり\n",
      "動畫製作人                                                 岡田麻衣子\n",
      "動畫製作                                             WIT STUDIO\n",
      "聲優        '日向未南', '村瀬歩', '梶 裕貴', '佐藤利奈', '江口拓也', '上田燿司',...\n",
      "dtype: object\n"
     ]
    }
   ],
   "source": [
    "print(a)"
   ]
  },
  {
   "cell_type": "code",
   "execution_count": 25,
   "metadata": {},
   "outputs": [
    {
     "data": {
      "text/plain": [
       "\"'日向未南', '村瀬歩', '梶 裕貴', '佐藤利奈', '江口拓也', '上田燿司', '安元洋貴', '田所陽向', '山下大輝'\""
      ]
     },
     "execution_count": 25,
     "metadata": {},
     "output_type": "execute_result"
    }
   ],
   "source": [
    "a['聲優']"
   ]
  },
  {
   "cell_type": "code",
   "execution_count": 79,
   "metadata": {},
   "outputs": [
    {
     "data": {
      "text/plain": [
       "array(['國王排名', '202201', '十日草輔', '八田洋介', '今井有文', '岸本 卓', '野崎あつこ',\n",
       "       \"['野崎あつこ', '河毛雅妃']\", '河毛雅妃', '渕上 真', \"['大城 勝', '小笠原真', '藤井 望']\",\n",
       "       '金子雄司', '藤井一志', '橋本 賢', \"['出水田和人', '上田程之']\", '廣瀬清志', 'MAYUKO',\n",
       "       '緒方康恭', 'えびなやすのり', '岡田麻衣子', 'WIT STUDIO',\n",
       "       \"['日向未南', '村瀬歩', '梶 裕貴', '佐藤利奈', '江口拓也', '上田燿司', '安元洋貴', '田所陽向', '山下大輝']\"],\n",
       "      dtype=object)"
      ]
     },
     "execution_count": 79,
     "metadata": {},
     "output_type": "execute_result"
    }
   ],
   "source": [
    "b"
   ]
  },
  {
   "cell_type": "code",
   "execution_count": 72,
   "metadata": {},
   "outputs": [
    {
     "data": {
      "text/plain": [
       "\"['日向未南', '村瀬歩', '梶 裕貴', '佐藤利奈', '江口拓也', '上田燿司', '安元洋貴', '田所陽向', '山下大輝']\""
      ]
     },
     "execution_count": 72,
     "metadata": {},
     "output_type": "execute_result"
    }
   ],
   "source": [
    "a['聲優']"
   ]
  },
  {
   "cell_type": "code",
   "execution_count": null,
   "metadata": {},
   "outputs": [],
   "source": [
    "anime_dict = {'原作':anime_staff_list[0], \n",
    "                '導演':anime_staff_list[1], \n",
    "                '副導演':anime_staff_list[2], \n",
    "                '劇本統籌':anime_staff_list[3], \n",
    "                '人物設計':anime_staff_list[4], \n",
    "                '總作畫監督':anime_staff_list[5], \n",
    "                '配角人物設計':anime_staff_list[6], \n",
    "                'チーフ演出':anime_staff_list[7], \n",
    "                '主動畫師':anime_staff_list[8], \n",
    "                '美術監督':anime_staff_list[9], \n",
    "                '美術設定':anime_staff_list[10], \n",
    "                '色彩設計':anime_staff_list[11], \n",
    "                '撮影監督':anime_staff_list[12], \n",
    "                '編集':anime_staff_list[13], \n",
    "                '音樂':anime_staff_list[14], \n",
    "                '音響効果':anime_staff_list[15], \n",
    "                '音效指導':anime_staff_list[16], \n",
    "                '動畫製作人':anime_staff_list[17], \n",
    "                '動畫製作':anime_staff_list[18]}"
   ]
  }
 ],
 "metadata": {
  "kernelspec": {
   "display_name": ".venv",
   "language": "python",
   "name": "python3"
  },
  "language_info": {
   "codemirror_mode": {
    "name": "ipython",
    "version": 3
   },
   "file_extension": ".py",
   "mimetype": "text/x-python",
   "name": "python",
   "nbconvert_exporter": "python",
   "pygments_lexer": "ipython3",
   "version": "3.12.0"
  }
 },
 "nbformat": 4,
 "nbformat_minor": 2
}
