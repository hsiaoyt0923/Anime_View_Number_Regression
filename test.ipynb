{
 "cells": [
  {
   "cell_type": "code",
   "execution_count": 1,
   "metadata": {},
   "outputs": [
    {
     "data": {
      "text/plain": [
       "['%s', '%s', '%s']"
      ]
     },
     "execution_count": 1,
     "metadata": {},
     "output_type": "execute_result"
    }
   ],
   "source": [
    "['%s']*3"
   ]
  },
  {
   "cell_type": "code",
   "execution_count": 3,
   "metadata": {},
   "outputs": [
    {
     "data": {
      "text/plain": [
       "[]"
      ]
     },
     "execution_count": 3,
     "metadata": {},
     "output_type": "execute_result"
    }
   ],
   "source": [
    "a = [f\"作品分類{i + 1}\" for i in range(0)]\n",
    "a"
   ]
  },
  {
   "cell_type": "code",
   "execution_count": 4,
   "metadata": {},
   "outputs": [
    {
     "data": {
      "text/plain": [
       "'%s,%s,%s,%s,%s'"
      ]
     },
     "execution_count": 4,
     "metadata": {},
     "output_type": "execute_result"
    }
   ],
   "source": [
    "','.join(['%s'] * 5) # join() returns a string"
   ]
  },
  {
   "cell_type": "code",
   "execution_count": 5,
   "metadata": {},
   "outputs": [
    {
     "data": {
      "text/plain": [
       "[1, 2, 3, 4, 5, 6]"
      ]
     },
     "execution_count": 5,
     "metadata": {},
     "output_type": "execute_result"
    }
   ],
   "source": [
    "tags = [1,2,3,4,5,6,7,8,9,10]\n",
    "tags = [tags[i] for i in range(6)]\n",
    "tags"
   ]
  },
  {
   "cell_type": "code",
   "execution_count": 7,
   "metadata": {},
   "outputs": [
    {
     "data": {
      "text/plain": [
       "\"\\n        INSERT INTO 巴哈姆特動畫瘋\\n        (動畫名,觀看數,季度,集數,動畫連結,星級,評分人數,導演監督,台灣代理,製作廠商)\\n        VALUES(%s,%s,%s,%s,%s,%s,%s,%s,%s,%s)\\n        ON CONFLICT (動畫名) DO UPDATE SET\\n    觀看數='2', 季度='3', 集數='4', 動畫連結='5', 星級='6', 評分人數='7'\""
      ]
     },
     "execution_count": 7,
     "metadata": {},
     "output_type": "execute_result"
    }
   ],
   "source": [
    "column_names = [\n",
    "    \"動畫名\", \"觀看數\", \"季度\", \"集數\", \"動畫連結\",\n",
    "    \"星級\", \"評分人數\", \"導演監督\", \"台灣代理\", \"製作廠商\"\n",
    "]\n",
    "infos = [1,2,3,4,5,6,7,8]\n",
    "insert_sql = f'''\n",
    "        INSERT INTO 巴哈姆特動畫瘋\n",
    "        ({','.join(column_names)})\n",
    "        VALUES({','.join(['%s'] * len(column_names))})\n",
    "        ON CONFLICT (動畫名) DO UPDATE SET\n",
    "    '''\n",
    "update_columns = [f\"{column_names[i]}='{infos[i]}'\" for i in range(1, 7)]\n",
    "on_conflict_sql = ', '.join(update_columns)\n",
    "insert_sql += on_conflict_sql\n",
    "insert_sql"
   ]
  }
 ],
 "metadata": {
  "kernelspec": {
   "display_name": "Python 3",
   "language": "python",
   "name": "python3"
  },
  "language_info": {
   "codemirror_mode": {
    "name": "ipython",
    "version": 3
   },
   "file_extension": ".py",
   "mimetype": "text/x-python",
   "name": "python",
   "nbconvert_exporter": "python",
   "pygments_lexer": "ipython3",
   "version": "3.12.0"
  }
 },
 "nbformat": 4,
 "nbformat_minor": 2
}
