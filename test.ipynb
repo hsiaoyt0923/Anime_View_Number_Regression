{
 "cells": [
  {
   "cell_type": "code",
   "execution_count": 1,
   "metadata": {},
   "outputs": [
    {
     "data": {
      "text/plain": [
       "['%s', '%s', '%s']"
      ]
     },
     "execution_count": 1,
     "metadata": {},
     "output_type": "execute_result"
    }
   ],
   "source": [
    "['%s']*3"
   ]
  },
  {
   "cell_type": "code",
   "execution_count": 3,
   "metadata": {},
   "outputs": [
    {
     "data": {
      "text/plain": [
       "[]"
      ]
     },
     "execution_count": 3,
     "metadata": {},
     "output_type": "execute_result"
    }
   ],
   "source": [
    "a = [f\"作品分類{i + 1}\" for i in range(0)]\n",
    "a"
   ]
  },
  {
   "cell_type": "code",
   "execution_count": 4,
   "metadata": {},
   "outputs": [
    {
     "data": {
      "text/plain": [
       "'%s,%s,%s,%s,%s'"
      ]
     },
     "execution_count": 4,
     "metadata": {},
     "output_type": "execute_result"
    }
   ],
   "source": [
    "','.join(['%s'] * 5) # join() returns a string"
   ]
  },
  {
   "cell_type": "code",
   "execution_count": 5,
   "metadata": {},
   "outputs": [
    {
     "data": {
      "text/plain": [
       "[1, 2, 3, 4, 5, 6]"
      ]
     },
     "execution_count": 5,
     "metadata": {},
     "output_type": "execute_result"
    }
   ],
   "source": [
    "tags = [1,2,3,4,5,6,7,8,9,10]\n",
    "tags = [tags[i] for i in range(6)]\n",
    "tags"
   ]
  },
  {
   "cell_type": "code",
   "execution_count": 7,
   "metadata": {},
   "outputs": [
    {
     "data": {
      "text/plain": [
       "\"\\n        INSERT INTO 巴哈姆特動畫瘋\\n        (動畫名,觀看數,季度,集數,動畫連結,星級,評分人數,導演監督,台灣代理,製作廠商)\\n        VALUES(%s,%s,%s,%s,%s,%s,%s,%s,%s,%s)\\n        ON CONFLICT (動畫名) DO UPDATE SET\\n    觀看數='2', 季度='3', 集數='4', 動畫連結='5', 星級='6', 評分人數='7'\""
      ]
     },
     "execution_count": 7,
     "metadata": {},
     "output_type": "execute_result"
    }
   ],
   "source": [
    "column_names = [\n",
    "    \"動畫名\", \"觀看數\", \"季度\", \"集數\", \"動畫連結\",\n",
    "    \"星級\", \"評分人數\", \"導演監督\", \"台灣代理\", \"製作廠商\"\n",
    "]\n",
    "infos = [1,2,3,4,5,6,7,8]\n",
    "insert_sql = f'''\n",
    "        INSERT INTO 巴哈姆特動畫瘋\n",
    "        ({','.join(column_names)})\n",
    "        VALUES({','.join(['%s'] * len(column_names))})\n",
    "        ON CONFLICT (動畫名) DO UPDATE SET\n",
    "    '''\n",
    "update_columns = [f\"{column_names[i]}='{infos[i]}'\" for i in range(1, 7)]\n",
    "on_conflict_sql = ', '.join(update_columns)\n",
    "insert_sql += on_conflict_sql\n",
    "insert_sql"
   ]
  },
  {
   "cell_type": "code",
   "execution_count": 8,
   "metadata": {},
   "outputs": [
    {
     "ename": "TypeError",
     "evalue": "'int' object is not iterable",
     "output_type": "error",
     "traceback": [
      "\u001b[0;31m---------------------------------------------------------------------------\u001b[0m",
      "\u001b[0;31mTypeError\u001b[0m                                 Traceback (most recent call last)",
      "\u001b[1;32m/workspaces/Anime_View_Number_Regression/test.ipynb Cell 6\u001b[0m line \u001b[0;36m1\n\u001b[0;32m----> <a href='vscode-notebook-cell://dev-container%2B7b22686f737450617468223a22633a5c5c55736572735c5c45646469655c5c4f6e6544726976655c5ce69687e4bbb65c5c4769744875625c5c416e696d655f566965775f4e756d6265725f52656772657373696f6e222c226c6f63616c446f636b6572223a66616c73652c22636f6e66696746696c65223a7b22246d6964223a312c22667350617468223a22633a5c5c55736572735c5c45646469655c5c4f6e6544726976655c5ce69687e4bbb65c5c4769744875625c5c416e696d655f566965775f4e756d6265725f52656772657373696f6e5c5c2e646576636f6e7461696e65725c5c646576636f6e7461696e65722e6a736f6e222c225f736570223a312c2265787465726e616c223a2266696c653a2f2f2f632533412f55736572732f45646469652f4f6e6544726976652f2545362539362538372545342542422542362f4769744875622f416e696d655f566965775f4e756d6265725f52656772657373696f6e2f2e646576636f6e7461696e65722f646576636f6e7461696e65722e6a736f6e222c2270617468223a222f633a2f55736572732f45646469652f4f6e6544726976652fe69687e4bbb62f4769744875622f416e696d655f566965775f4e756d6265725f52656772657373696f6e2f2e646576636f6e7461696e65722f646576636f6e7461696e65722e6a736f6e222c22736368656d65223a2266696c65227d7d/workspaces/Anime_View_Number_Regression/test.ipynb#W6sdnNjb2RlLXJlbW90ZQ%3D%3D?line=0'>1</a>\u001b[0m \u001b[39mfor\u001b[39;49;00m i \u001b[39min\u001b[39;49;00m \u001b[39m5\u001b[39;49m:\n\u001b[1;32m      <a href='vscode-notebook-cell://dev-container%2B7b22686f737450617468223a22633a5c5c55736572735c5c45646469655c5c4f6e6544726976655c5ce69687e4bbb65c5c4769744875625c5c416e696d655f566965775f4e756d6265725f52656772657373696f6e222c226c6f63616c446f636b6572223a66616c73652c22636f6e66696746696c65223a7b22246d6964223a312c22667350617468223a22633a5c5c55736572735c5c45646469655c5c4f6e6544726976655c5ce69687e4bbb65c5c4769744875625c5c416e696d655f566965775f4e756d6265725f52656772657373696f6e5c5c2e646576636f6e7461696e65725c5c646576636f6e7461696e65722e6a736f6e222c225f736570223a312c2265787465726e616c223a2266696c653a2f2f2f632533412f55736572732f45646469652f4f6e6544726976652f2545362539362538372545342542422542362f4769744875622f416e696d655f566965775f4e756d6265725f52656772657373696f6e2f2e646576636f6e7461696e65722f646576636f6e7461696e65722e6a736f6e222c2270617468223a222f633a2f55736572732f45646469652f4f6e6544726976652fe69687e4bbb62f4769744875622f416e696d655f566965775f4e756d6265725f52656772657373696f6e2f2e646576636f6e7461696e65722f646576636f6e7461696e65722e6a736f6e222c22736368656d65223a2266696c65227d7d/workspaces/Anime_View_Number_Regression/test.ipynb#W6sdnNjb2RlLXJlbW90ZQ%3D%3D?line=1'>2</a>\u001b[0m     \u001b[39mprint\u001b[39;49m(\u001b[39m1\u001b[39;49m)\n",
      "\u001b[0;31mTypeError\u001b[0m: 'int' object is not iterable"
     ]
    }
   ],
   "source": [
    "for i in 5:\n",
    "    print(1)"
   ]
  },
  {
   "cell_type": "code",
   "execution_count": 11,
   "metadata": {},
   "outputs": [
    {
     "name": "stdout",
     "output_type": "stream",
     "text": [
      "1\n"
     ]
    }
   ],
   "source": [
    "for i in range(1,2):\n",
    "    print(i)"
   ]
  },
  {
   "cell_type": "code",
   "execution_count": 14,
   "metadata": {},
   "outputs": [
    {
     "data": {
      "text/plain": [
       "[1, 2, 3, 4, 5, 6]"
      ]
     },
     "execution_count": 14,
     "metadata": {},
     "output_type": "execute_result"
    }
   ],
   "source": [
    "a = [1,2,3]\n",
    "b = [4,5,6]\n",
    "c = []\n",
    "c += a\n",
    "c += b\n",
    "c"
   ]
  },
  {
   "cell_type": "code",
   "execution_count": 15,
   "metadata": {},
   "outputs": [
    {
     "data": {
      "text/plain": [
       "[[1, 2, 3], [4, 5, 6]]"
      ]
     },
     "execution_count": 15,
     "metadata": {},
     "output_type": "execute_result"
    }
   ],
   "source": [
    "a = [1, 2, 3]\n",
    "b = [4, 5, 6]\n",
    "c = []\n",
    "c.append(a)\n",
    "c.append(b)\n",
    "c"
   ]
  }
 ],
 "metadata": {
  "kernelspec": {
   "display_name": "Python 3",
   "language": "python",
   "name": "python3"
  },
  "language_info": {
   "codemirror_mode": {
    "name": "ipython",
    "version": 3
   },
   "file_extension": ".py",
   "mimetype": "text/x-python",
   "name": "python",
   "nbconvert_exporter": "python",
   "pygments_lexer": "ipython3",
   "version": "3.12.0"
  }
 },
 "nbformat": 4,
 "nbformat_minor": 2
}
