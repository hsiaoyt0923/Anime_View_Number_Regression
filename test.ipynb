{
 "cells": [
  {
   "cell_type": "code",
   "execution_count": 1,
   "metadata": {},
   "outputs": [
    {
     "data": {
      "text/plain": [
       "['%s', '%s', '%s']"
      ]
     },
     "execution_count": 1,
     "metadata": {},
     "output_type": "execute_result"
    }
   ],
   "source": [
    "['%s']*3"
   ]
  },
  {
   "cell_type": "code",
   "execution_count": 3,
   "metadata": {},
   "outputs": [
    {
     "data": {
      "text/plain": [
       "[]"
      ]
     },
     "execution_count": 3,
     "metadata": {},
     "output_type": "execute_result"
    }
   ],
   "source": [
    "a = [f\"作品分類{i + 1}\" for i in range(0)]\n",
    "a"
   ]
  },
  {
   "cell_type": "code",
   "execution_count": 4,
   "metadata": {},
   "outputs": [
    {
     "data": {
      "text/plain": [
       "'%s,%s,%s,%s,%s'"
      ]
     },
     "execution_count": 4,
     "metadata": {},
     "output_type": "execute_result"
    }
   ],
   "source": [
    "','.join(['%s'] * 5) # join() returns a string"
   ]
  },
  {
   "cell_type": "code",
   "execution_count": 5,
   "metadata": {},
   "outputs": [
    {
     "data": {
      "text/plain": [
       "[1, 2, 3, 4, 5, 6]"
      ]
     },
     "execution_count": 5,
     "metadata": {},
     "output_type": "execute_result"
    }
   ],
   "source": [
    "tags = [1,2,3,4,5,6,7,8,9,10]\n",
    "tags = [tags[i] for i in range(6)]\n",
    "tags"
   ]
  },
  {
   "cell_type": "code",
   "execution_count": 7,
   "metadata": {},
   "outputs": [
    {
     "data": {
      "text/plain": [
       "\"\\n        INSERT INTO 巴哈姆特動畫瘋\\n        (動畫名,觀看數,季度,集數,動畫連結,星級,評分人數,導演監督,台灣代理,製作廠商)\\n        VALUES(%s,%s,%s,%s,%s,%s,%s,%s,%s,%s)\\n        ON CONFLICT (動畫名) DO UPDATE SET\\n    觀看數='2', 季度='3', 集數='4', 動畫連結='5', 星級='6', 評分人數='7'\""
      ]
     },
     "execution_count": 7,
     "metadata": {},
     "output_type": "execute_result"
    }
   ],
   "source": [
    "column_names = [\n",
    "    \"動畫名\", \"觀看數\", \"季度\", \"集數\", \"動畫連結\",\n",
    "    \"星級\", \"評分人數\", \"導演監督\", \"台灣代理\", \"製作廠商\"\n",
    "]\n",
    "infos = [1,2,3,4,5,6,7,8]\n",
    "insert_sql = f'''\n",
    "        INSERT INTO 巴哈姆特動畫瘋\n",
    "        ({','.join(column_names)})\n",
    "        VALUES({','.join(['%s'] * len(column_names))})\n",
    "        ON CONFLICT (動畫名) DO UPDATE SET\n",
    "    '''\n",
    "update_columns = [f\"{column_names[i]}='{infos[i]}'\" for i in range(1, 7)]\n",
    "on_conflict_sql = ', '.join(update_columns)\n",
    "insert_sql += on_conflict_sql\n",
    "insert_sql"
   ]
  },
  {
   "cell_type": "code",
   "execution_count": 8,
   "metadata": {},
   "outputs": [
    {
     "ename": "TypeError",
     "evalue": "'int' object is not iterable",
     "output_type": "error",
     "traceback": [
      "\u001b[0;31m---------------------------------------------------------------------------\u001b[0m",
      "\u001b[0;31mTypeError\u001b[0m                                 Traceback (most recent call last)",
      "\u001b[1;32m/workspaces/Anime_View_Number_Regression/test.ipynb Cell 6\u001b[0m line \u001b[0;36m1\n\u001b[0;32m----> <a href='vscode-notebook-cell://dev-container%2B7b22686f737450617468223a22633a5c5c55736572735c5c45646469655c5c4f6e6544726976655c5ce69687e4bbb65c5c4769744875625c5c416e696d655f566965775f4e756d6265725f52656772657373696f6e222c226c6f63616c446f636b6572223a66616c73652c22636f6e66696746696c65223a7b22246d6964223a312c22667350617468223a22633a5c5c55736572735c5c45646469655c5c4f6e6544726976655c5ce69687e4bbb65c5c4769744875625c5c416e696d655f566965775f4e756d6265725f52656772657373696f6e5c5c2e646576636f6e7461696e65725c5c646576636f6e7461696e65722e6a736f6e222c225f736570223a312c2265787465726e616c223a2266696c653a2f2f2f632533412f55736572732f45646469652f4f6e6544726976652f2545362539362538372545342542422542362f4769744875622f416e696d655f566965775f4e756d6265725f52656772657373696f6e2f2e646576636f6e7461696e65722f646576636f6e7461696e65722e6a736f6e222c2270617468223a222f633a2f55736572732f45646469652f4f6e6544726976652fe69687e4bbb62f4769744875622f416e696d655f566965775f4e756d6265725f52656772657373696f6e2f2e646576636f6e7461696e65722f646576636f6e7461696e65722e6a736f6e222c22736368656d65223a2266696c65227d7d/workspaces/Anime_View_Number_Regression/test.ipynb#W6sdnNjb2RlLXJlbW90ZQ%3D%3D?line=0'>1</a>\u001b[0m \u001b[39mfor\u001b[39;49;00m i \u001b[39min\u001b[39;49;00m \u001b[39m5\u001b[39;49m:\n\u001b[1;32m      <a href='vscode-notebook-cell://dev-container%2B7b22686f737450617468223a22633a5c5c55736572735c5c45646469655c5c4f6e6544726976655c5ce69687e4bbb65c5c4769744875625c5c416e696d655f566965775f4e756d6265725f52656772657373696f6e222c226c6f63616c446f636b6572223a66616c73652c22636f6e66696746696c65223a7b22246d6964223a312c22667350617468223a22633a5c5c55736572735c5c45646469655c5c4f6e6544726976655c5ce69687e4bbb65c5c4769744875625c5c416e696d655f566965775f4e756d6265725f52656772657373696f6e5c5c2e646576636f6e7461696e65725c5c646576636f6e7461696e65722e6a736f6e222c225f736570223a312c2265787465726e616c223a2266696c653a2f2f2f632533412f55736572732f45646469652f4f6e6544726976652f2545362539362538372545342542422542362f4769744875622f416e696d655f566965775f4e756d6265725f52656772657373696f6e2f2e646576636f6e7461696e65722f646576636f6e7461696e65722e6a736f6e222c2270617468223a222f633a2f55736572732f45646469652f4f6e6544726976652fe69687e4bbb62f4769744875622f416e696d655f566965775f4e756d6265725f52656772657373696f6e2f2e646576636f6e7461696e65722f646576636f6e7461696e65722e6a736f6e222c22736368656d65223a2266696c65227d7d/workspaces/Anime_View_Number_Regression/test.ipynb#W6sdnNjb2RlLXJlbW90ZQ%3D%3D?line=1'>2</a>\u001b[0m     \u001b[39mprint\u001b[39;49m(\u001b[39m1\u001b[39;49m)\n",
      "\u001b[0;31mTypeError\u001b[0m: 'int' object is not iterable"
     ]
    }
   ],
   "source": [
    "for i in 5:\n",
    "    print(1)"
   ]
  },
  {
   "cell_type": "code",
   "execution_count": 11,
   "metadata": {},
   "outputs": [
    {
     "name": "stdout",
     "output_type": "stream",
     "text": [
      "1\n"
     ]
    }
   ],
   "source": [
    "for i in range(1,2):\n",
    "    print(i)"
   ]
  },
  {
   "cell_type": "code",
   "execution_count": 14,
   "metadata": {},
   "outputs": [
    {
     "data": {
      "text/plain": [
       "[1, 2, 3, 4, 5, 6]"
      ]
     },
     "execution_count": 14,
     "metadata": {},
     "output_type": "execute_result"
    }
   ],
   "source": [
    "a = [1,2,3]\n",
    "b = [4,5,6]\n",
    "c = []\n",
    "c += a\n",
    "c += b\n",
    "c"
   ]
  },
  {
   "cell_type": "code",
   "execution_count": 15,
   "metadata": {},
   "outputs": [
    {
     "data": {
      "text/plain": [
       "[[1, 2, 3], [4, 5, 6]]"
      ]
     },
     "execution_count": 15,
     "metadata": {},
     "output_type": "execute_result"
    }
   ],
   "source": [
    "a = [1, 2, 3]\n",
    "b = [4, 5, 6]\n",
    "c = []\n",
    "c.append(a)\n",
    "c.append(b)\n",
    "c"
   ]
  },
  {
   "cell_type": "code",
   "execution_count": 2,
   "metadata": {},
   "outputs": [],
   "source": [
    "import psycopg2\n",
    "import password as pw\n",
    "conn = psycopg2.connect(database=pw.DATABASE,\n",
    "                            user=pw.USER,\n",
    "                            password=pw.PASSWORD,\n",
    "                            host=pw.HOST,\n",
    "                            port=pw.PORT)\n",
    "conn.close()"
   ]
  },
  {
   "cell_type": "code",
   "execution_count": 7,
   "metadata": {},
   "outputs": [
    {
     "data": {
      "text/plain": [
       "'https://favsk.com/ani-gamer/'"
      ]
     },
     "execution_count": 7,
     "metadata": {},
     "output_type": "execute_result"
    }
   ],
   "source": [
    "import random\n",
    "referer_choices = ['https://jplop.neocities.org/shar_free_movie_site', 'www.google.com', 'https://lovekhc.com/info/巴哈姆特動畫瘋.html','https://favsk.com/ani-gamer/','www.bing.com']\n",
    "referer = random.choice(referer_choices)\n",
    "\n",
    "referer"
   ]
  },
  {
   "cell_type": "code",
   "execution_count": 9,
   "metadata": {},
   "outputs": [
    {
     "data": {
      "text/plain": [
       "'Mozilla/5.0 (Windows NT 6.1; Win64; x64) AppleWebKit/537.36 (KHTML, like Gecko) Chrome/109.0.0.0 Safari/537.36'"
      ]
     },
     "execution_count": 9,
     "metadata": {},
     "output_type": "execute_result"
    }
   ],
   "source": [
    "from fake_useragent import UserAgent\n",
    "user_agent = UserAgent()\n",
    "user_agent.random"
   ]
  },
  {
   "cell_type": "code",
   "execution_count": 54,
   "metadata": {},
   "outputs": [
    {
     "name": "stdout",
     "output_type": "stream",
     "text": [
      "請求成功：200\n",
      "None 無意間變成狗，被喜歡的女生撿回家。\n",
      "<span class=\"label-edition color-R18\">年齡限制</span> 無意間變成狗，被喜歡的女生撿回家。 年齡限制版\n",
      "None 電影 哆啦A夢 大雄的貓狗時空傳\n"
     ]
    }
   ],
   "source": [
    "import requests\n",
    "from bs4 import BeautifulSoup\n",
    "from fake_useragent import UserAgent\n",
    "\n",
    "user_agent = UserAgent()\n",
    "response = requests.get('https://ani.gamer.com.tw/search.php?keyword=%E7%8B%97', headers={\"User-Agent\": user_agent.random})\n",
    "response.encoding = 'utf8'\n",
    "if response.status_code == 200:\n",
    "    print(f'請求成功：{response.status_code}')\n",
    "else:\n",
    "    print(f'請求失敗：{response.status_code}')\n",
    "intro_data = BeautifulSoup(response.text, 'html.parser')\n",
    "anime_infos = intro_data.select('.theme-list-main')\n",
    "anime_data = []\n",
    "for anime_info in anime_infos:\n",
    "    anime_name = anime_info.select_one('.theme-name').text.strip()\n",
    "    if anime_info.select_one('.color-R18') is not None:\n",
    "        anime_name = anime_name + ' 年齡限制版'\n",
    "    show_view_number = anime_info.select_one(\n",
    "        '.show-view-number > p').text.strip()\n",
    "    anime_time = anime_info.select_one(\n",
    "        '.theme-time').text.strip().replace('年份：', '')\n",
    "    anime_episode = anime_info.select_one(\n",
    "        '.theme-number').text.strip().replace('共', '').replace('集', '')\n",
    "    anime_link = 'https://ani.gamer.com.tw/' + anime_info['href']\n",
    "    print(anime_info.select_one('.color-R18'), anime_name)\n"
   ]
  },
  {
   "cell_type": "code",
   "execution_count": 51,
   "metadata": {},
   "outputs": [
    {
     "name": "stdout",
     "output_type": "stream",
     "text": [
      "None\n",
      "<span class=\"label-edition color-R18\">年齡限制</span>\n",
      "None\n"
     ]
    }
   ],
   "source": [
    "for anime_info in anime_infos:\n",
    "    print(anime_info.select_one('.color-R18'))"
   ]
  },
  {
   "cell_type": "code",
   "execution_count": 32,
   "metadata": {},
   "outputs": [
    {
     "data": {
      "text/plain": [
       "10.0"
      ]
     },
     "execution_count": 32,
     "metadata": {},
     "output_type": "execute_result"
    }
   ],
   "source": [
    "(float)(10)"
   ]
  },
  {
   "cell_type": "code",
   "execution_count": 56,
   "metadata": {},
   "outputs": [
    {
     "name": "stdout",
     "output_type": "stream",
     "text": [
      "starting...\n",
      "1\n",
      "2\n",
      "3\n",
      "4\n",
      "5\n",
      "6\n",
      "7\n",
      "8\n",
      "9\n",
      "10\n"
     ]
    }
   ],
   "source": [
    "def foo(num):\n",
    "    print('starting...')\n",
    "    while num < 10:\n",
    "        num += 1\n",
    "        yield num\n",
    "for n in foo(0):\n",
    "    print(n)"
   ]
  },
  {
   "cell_type": "code",
   "execution_count": 9,
   "metadata": {},
   "outputs": [
    {
     "data": {
      "text/plain": [
       "'Healin Good♥光之美少女'"
      ]
     },
     "execution_count": 9,
     "metadata": {},
     "output_type": "execute_result"
    }
   ],
   "source": [
    "values = [\"Healin' Good♥光之美少女\", '原創作品', '新作']\n",
    "values[0].replace(\"\\'\",\"\")"
   ]
  },
  {
   "cell_type": "code",
   "execution_count": 2,
   "metadata": {},
   "outputs": [
    {
     "data": {
      "text/plain": [
       "['', '2020/01']"
      ]
     },
     "execution_count": 2,
     "metadata": {},
     "output_type": "execute_result"
    }
   ],
   "source": [
    "import re\n",
    "text = '年份:2020/01'\n",
    "s = re.split('年份:', text)\n",
    "s"
   ]
  },
  {
   "cell_type": "code",
   "execution_count": 24,
   "metadata": {},
   "outputs": [
    {
     "data": {
      "text/plain": [
       "['72.6', '']"
      ]
     },
     "execution_count": 24,
     "metadata": {},
     "output_type": "execute_result"
    }
   ],
   "source": [
    "number = '72.6萬'\n",
    "s1 = number.split('萬', 1)\n",
    "s1"
   ]
  },
  {
   "cell_type": "code",
   "execution_count": 21,
   "metadata": {},
   "outputs": [
    {
     "data": {
      "text/plain": [
       "['統計中']"
      ]
     },
     "execution_count": 21,
     "metadata": {},
     "output_type": "execute_result"
    }
   ],
   "source": [
    "number = '統計中'\n",
    "s1 = number.split('萬', 1)\n",
    "s1"
   ]
  },
  {
   "cell_type": "code",
   "execution_count": 8,
   "metadata": {},
   "outputs": [
    {
     "data": {
      "text/plain": [
       "-1"
      ]
     },
     "execution_count": 8,
     "metadata": {},
     "output_type": "execute_result"
    }
   ],
   "source": [
    "-1"
   ]
  },
  {
   "cell_type": "code",
   "execution_count": 17,
   "metadata": {},
   "outputs": [
    {
     "data": {
      "text/plain": [
       "-1"
      ]
     },
     "execution_count": 17,
     "metadata": {},
     "output_type": "execute_result"
    }
   ],
   "source": [
    "text = '75'\n",
    "text.find('萬')"
   ]
  },
  {
   "cell_type": "code",
   "execution_count": 25,
   "metadata": {},
   "outputs": [
    {
     "data": {
      "text/plain": [
       "['2023', '01']"
      ]
     },
     "execution_count": 25,
     "metadata": {},
     "output_type": "execute_result"
    }
   ],
   "source": [
    "text = '2023/01'\n",
    "text.split('/')"
   ]
  },
  {
   "cell_type": "code",
   "execution_count": 26,
   "metadata": {},
   "outputs": [
    {
     "data": {
      "text/plain": [
       "['s', 't', 'r', 'i', 'n', 'g']"
      ]
     },
     "execution_count": 26,
     "metadata": {},
     "output_type": "execute_result"
    }
   ],
   "source": [
    "list = []\n",
    "text = 'string'\n",
    "list += text\n",
    "list"
   ]
  },
  {
   "cell_type": "code",
   "execution_count": 27,
   "metadata": {},
   "outputs": [
    {
     "data": {
      "text/plain": [
       "123"
      ]
     },
     "execution_count": 27,
     "metadata": {},
     "output_type": "execute_result"
    }
   ],
   "source": [
    "tuple = (123,456)\n",
    "tuple[0]"
   ]
  },
  {
   "cell_type": "code",
   "execution_count": 30,
   "metadata": {},
   "outputs": [
    {
     "ename": "TypeError",
     "evalue": "list.append() takes exactly one argument (2 given)",
     "output_type": "error",
     "traceback": [
      "\u001b[1;31m---------------------------------------------------------------------------\u001b[0m",
      "\u001b[1;31mTypeError\u001b[0m                                 Traceback (most recent call last)",
      "\u001b[1;32md:\\GitHub\\Anime_View_Number_Regression\\test.ipynb Cell 26\u001b[0m line \u001b[0;36m4\n\u001b[0;32m      <a href='vscode-notebook-cell:/d%3A/GitHub/Anime_View_Number_Regression/test.ipynb#X34sZmlsZQ%3D%3D?line=1'>2</a>\u001b[0m text \u001b[39m=\u001b[39m \u001b[39m'\u001b[39m\u001b[39m2023/01\u001b[39m\u001b[39m'\u001b[39m\n\u001b[0;32m      <a href='vscode-notebook-cell:/d%3A/GitHub/Anime_View_Number_Regression/test.ipynb#X34sZmlsZQ%3D%3D?line=2'>3</a>\u001b[0m vlist \u001b[39m=\u001b[39m text\u001b[39m.\u001b[39msplit(\u001b[39m'\u001b[39m\u001b[39m/\u001b[39m\u001b[39m'\u001b[39m)\n\u001b[1;32m----> <a href='vscode-notebook-cell:/d%3A/GitHub/Anime_View_Number_Regression/test.ipynb#X34sZmlsZQ%3D%3D?line=3'>4</a>\u001b[0m tp\u001b[39m.\u001b[39;49mappend(vlist[\u001b[39m0\u001b[39;49m], vlist[\u001b[39m1\u001b[39;49m])\n",
      "\u001b[1;31mTypeError\u001b[0m: list.append() takes exactly one argument (2 given)"
     ]
    }
   ],
   "source": [
    "tp = []\n",
    "text = '2023/01'\n",
    "vlist = text.split('/')\n",
    "tp.append(vlist[0], vlist[1])\n"
   ]
  },
  {
   "cell_type": "code",
   "execution_count": 31,
   "metadata": {},
   "outputs": [
    {
     "data": {
      "text/plain": [
       "['%s', '%s', '%s', '%s', '%s', '%s', '%s']"
      ]
     },
     "execution_count": 31,
     "metadata": {},
     "output_type": "execute_result"
    }
   ],
   "source": [
    "['%s'] *7"
   ]
  },
  {
   "cell_type": "code",
   "execution_count": 3,
   "metadata": {},
   "outputs": [
    {
     "data": {
      "text/plain": [
       "['https://jplop.neocities.org/shar_free_movie_site',\n",
       " 'https://www.google.com',\n",
       " 'https://favsk.com/ani-gamer/',\n",
       " 'https://www.bing.com',\n",
       " 'https://ani.gamer.com.tw/animeList.php?page=2',\n",
       " 'https://ani.gamer.com.tw/animeList.php?page=3',\n",
       " 'https://ani.gamer.com.tw/animeList.php?page=4',\n",
       " 'https://ani.gamer.com.tw/animeList.php?page=5',\n",
       " 'https://ani.gamer.com.tw/animeList.php?page=6',\n",
       " 'https://ani.gamer.com.tw/animeList.php?page=7',\n",
       " 'https://ani.gamer.com.tw/animeList.php?page=8',\n",
       " 'https://ani.gamer.com.tw/animeList.php?page=9',\n",
       " 'https://ani.gamer.com.tw/animeList.php?page=10',\n",
       " 'https://ani.gamer.com.tw/animeList.php?page=11',\n",
       " 'https://ani.gamer.com.tw/animeList.php?page=12',\n",
       " 'https://ani.gamer.com.tw/animeList.php?page=13',\n",
       " 'https://ani.gamer.com.tw/animeList.php?page=14',\n",
       " 'https://ani.gamer.com.tw/animeList.php?page=15',\n",
       " 'https://ani.gamer.com.tw/animeList.php?page=16',\n",
       " 'https://ani.gamer.com.tw/animeList.php?page=17',\n",
       " 'https://ani.gamer.com.tw/animeList.php?page=18',\n",
       " 'https://ani.gamer.com.tw/animeList.php?page=19',\n",
       " 'https://ani.gamer.com.tw/animeList.php?page=20',\n",
       " 'https://ani.gamer.com.tw/animeList.php?page=21',\n",
       " 'https://ani.gamer.com.tw/animeList.php?page=22',\n",
       " 'https://ani.gamer.com.tw/animeList.php?page=23',\n",
       " 'https://ani.gamer.com.tw/animeList.php?page=24',\n",
       " 'https://ani.gamer.com.tw/animeList.php?page=25',\n",
       " 'https://ani.gamer.com.tw/animeList.php?page=26',\n",
       " 'https://ani.gamer.com.tw/animeList.php?page=27',\n",
       " 'https://ani.gamer.com.tw/animeList.php?page=28',\n",
       " 'https://ani.gamer.com.tw/animeList.php?page=29',\n",
       " 'https://ani.gamer.com.tw/animeList.php?page=30',\n",
       " 'https://ani.gamer.com.tw/animeList.php?page=31',\n",
       " 'https://ani.gamer.com.tw/animeList.php?page=32',\n",
       " 'https://ani.gamer.com.tw/animeList.php?page=33',\n",
       " 'https://ani.gamer.com.tw/animeList.php?page=34',\n",
       " 'https://ani.gamer.com.tw/animeList.php?page=35',\n",
       " 'https://ani.gamer.com.tw/animeList.php?page=36',\n",
       " 'https://ani.gamer.com.tw/animeList.php?page=37',\n",
       " 'https://ani.gamer.com.tw/animeList.php?page=38',\n",
       " 'https://ani.gamer.com.tw/animeList.php?page=39',\n",
       " 'https://ani.gamer.com.tw/animeList.php?page=40',\n",
       " 'https://ani.gamer.com.tw/animeList.php?page=41',\n",
       " 'https://ani.gamer.com.tw/animeList.php?page=42',\n",
       " 'https://ani.gamer.com.tw/animeList.php?page=43',\n",
       " 'https://ani.gamer.com.tw/animeList.php?page=44',\n",
       " 'https://ani.gamer.com.tw/animeList.php?page=45',\n",
       " 'https://ani.gamer.com.tw/animeList.php?page=46',\n",
       " 'https://ani.gamer.com.tw/animeList.php?page=47',\n",
       " 'https://ani.gamer.com.tw/animeList.php?page=48',\n",
       " 'https://ani.gamer.com.tw/animeList.php?page=49',\n",
       " 'https://ani.gamer.com.tw/animeList.php?page=50',\n",
       " 'https://ani.gamer.com.tw/animeList.php?page=51',\n",
       " 'https://ani.gamer.com.tw/animeList.php?page=52',\n",
       " 'https://ani.gamer.com.tw/animeList.php?page=53',\n",
       " 'https://ani.gamer.com.tw/animeList.php?page=54',\n",
       " 'https://ani.gamer.com.tw/animeList.php?page=55',\n",
       " 'https://ani.gamer.com.tw/animeList.php?page=56',\n",
       " 'https://ani.gamer.com.tw/animeList.php?page=57']"
      ]
     },
     "execution_count": 3,
     "metadata": {},
     "output_type": "execute_result"
    }
   ],
   "source": [
    "referer_choices = ['https://jplop.neocities.org/shar_free_movie_site',\n",
    "                   'https://www.google.com',\n",
    "                   'https://favsk.com/ani-gamer/',\n",
    "                   'https://www.bing.com'] + [f'https://ani.gamer.com.tw/animeList.php?page={i+2}' for i in range(56)]\n",
    "referer_choices"
   ]
  },
  {
   "cell_type": "code",
   "execution_count": 4,
   "metadata": {},
   "outputs": [
    {
     "name": "stdout",
     "output_type": "stream",
     "text": [
      "https://acgsecrets.hk/bangumi/202001/\n",
      "https://acgsecrets.hk/bangumi/202004/\n",
      "https://acgsecrets.hk/bangumi/202007/\n",
      "https://acgsecrets.hk/bangumi/202010/\n",
      "https://acgsecrets.hk/bangumi/202101/\n",
      "https://acgsecrets.hk/bangumi/202104/\n",
      "https://acgsecrets.hk/bangumi/202107/\n",
      "https://acgsecrets.hk/bangumi/202110/\n",
      "https://acgsecrets.hk/bangumi/202201/\n",
      "https://acgsecrets.hk/bangumi/202204/\n",
      "https://acgsecrets.hk/bangumi/202207/\n",
      "https://acgsecrets.hk/bangumi/202210/\n",
      "https://acgsecrets.hk/bangumi/202301/\n",
      "https://acgsecrets.hk/bangumi/202304/\n",
      "https://acgsecrets.hk/bangumi/202307/\n",
      "https://acgsecrets.hk/bangumi/202310/\n"
     ]
    }
   ],
   "source": [
    "for i in ['2020', '2021', '2022', '2023']:\n",
    "    for j in ['01', '04', '07', '10']:\n",
    "        url = f'https://acgsecrets.hk/bangumi/{i+j}/'\n",
    "        print(url)"
   ]
  },
  {
   "cell_type": "code",
   "execution_count": 25,
   "metadata": {},
   "outputs": [],
   "source": [
    "name_list = ['科學超電磁砲T','とある科学の超電磁砲＜レールガン＞T','とある科学の超電磁砲レールガンT','某科學的超電磁砲T','某科学的超电磁炮T','科学超电磁炮T']\n",
    "namestr_list = []\n",
    "for item in name_list:\n",
    "    namestr_list.append(f\"'{item}'\")\n",
    "namestr = ''\n",
    "for item in namestr_list:\n",
    "    namestr += f'{item}'\n",
    "    namestr += ','\n",
    "\n",
    "namestr = namestr.rstrip(',')"
   ]
  },
  {
   "cell_type": "code",
   "execution_count": 26,
   "metadata": {},
   "outputs": [
    {
     "data": {
      "text/plain": [
       "\"'科學超電磁砲T','とある科学の超電磁砲＜レールガン＞T','とある科学の超電磁砲レールガンT','某科學的超電磁砲T','某科学的超电磁炮T','科学超电磁炮T'\""
      ]
     },
     "execution_count": 26,
     "metadata": {},
     "output_type": "execute_result"
    }
   ],
   "source": [
    "namestr"
   ]
  },
  {
   "cell_type": "code",
   "execution_count": 27,
   "metadata": {},
   "outputs": [
    {
     "name": "stdout",
     "output_type": "stream",
     "text": [
      "Darwins Game\n"
     ]
    }
   ],
   "source": [
    "s = \"Darwin's Game\".replace(\"'\",'')\n",
    "print(s)"
   ]
  },
  {
   "cell_type": "code",
   "execution_count": 1,
   "metadata": {},
   "outputs": [
    {
     "name": "stdout",
     "output_type": "stream",
     "text": [
      "[\"Darwin's\", 'Game']\n"
     ]
    }
   ],
   "source": [
    "s = \"Darwin's Game\".split()\n",
    "print(s)"
   ]
  },
  {
   "cell_type": "code",
   "execution_count": 7,
   "metadata": {},
   "outputs": [
    {
     "data": {
      "text/plain": [
       "'我想成為影'"
      ]
     },
     "execution_count": 7,
     "metadata": {},
     "output_type": "execute_result"
    }
   ],
   "source": [
    "t = '我想成為影之強者'\n",
    "t[0:5]"
   ]
  },
  {
   "cell_type": "code",
   "execution_count": 9,
   "metadata": {},
   "outputs": [
    {
     "data": {
      "text/plain": [
       "['我想成為影之強者', '我想成為影之實力者', '中二病患者征服世界']"
      ]
     },
     "execution_count": 9,
     "metadata": {},
     "output_type": "execute_result"
    }
   ],
   "source": [
    "name_list = [\"我想'成為'影之強者\", \"我想成為'影'之實力者\", \"中二病'患者'征服世界\"]\n",
    "name_list = [name_list[i].replace(\"'\", '') for i in range(len(name_list))]\n",
    "name_list"
   ]
  },
  {
   "cell_type": "code",
   "execution_count": 10,
   "metadata": {},
   "outputs": [
    {
     "data": {
      "text/plain": [
       "'我想成為影'"
      ]
     },
     "execution_count": 10,
     "metadata": {},
     "output_type": "execute_result"
    }
   ],
   "source": [
    "name_list[0][:5]"
   ]
  },
  {
   "cell_type": "code",
   "execution_count": 27,
   "metadata": {},
   "outputs": [
    {
     "name": "stdout",
     "output_type": "stream",
     "text": [
      "Good!\n"
     ]
    }
   ],
   "source": [
    "thirdname = '我季'\n",
    "if thirdname.find('季') != -1:\n",
    "    print('Good!')"
   ]
  },
  {
   "cell_type": "code",
   "execution_count": 8,
   "metadata": {},
   "outputs": [
    {
     "data": {
      "text/plain": [
       "-1"
      ]
     },
     "execution_count": 8,
     "metadata": {},
     "output_type": "execute_result"
    }
   ],
   "source": [
    "thirdname = '我'\n",
    "thirdname.find('eason')"
   ]
  }
 ],
 "metadata": {
  "kernelspec": {
   "display_name": "Python 3",
   "language": "python",
   "name": "python3"
  },
  "language_info": {
   "codemirror_mode": {
    "name": "ipython",
    "version": 3
   },
   "file_extension": ".py",
   "mimetype": "text/x-python",
   "name": "python",
   "nbconvert_exporter": "python",
   "pygments_lexer": "ipython3",
   "version": "3.12.0"
  }
 },
 "nbformat": 4,
 "nbformat_minor": 2
}
