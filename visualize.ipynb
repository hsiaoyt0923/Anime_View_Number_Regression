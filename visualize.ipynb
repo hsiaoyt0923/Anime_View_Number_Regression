{
 "cells": [
  {
   "cell_type": "code",
   "execution_count": 10,
   "metadata": {},
   "outputs": [],
   "source": [
    "import numpy as np\n",
    "import pandas as pd\n",
    "import matplotlib.pyplot as plt\n",
    "import seaborn as sns"
   ]
  },
  {
   "cell_type": "code",
   "execution_count": 11,
   "metadata": {},
   "outputs": [],
   "source": [
    "df = pd.read_csv('./動畫瘋訓練資料集2版.csv')"
   ]
  },
  {
   "cell_type": "code",
   "execution_count": 12,
   "metadata": {},
   "outputs": [
    {
     "name": "stdout",
     "output_type": "stream",
     "text": [
      "<class 'pandas.core.frame.DataFrame'>\n",
      "RangeIndex: 582 entries, 0 to 581\n",
      "Data columns (total 20 columns):\n",
      " #   Column  Non-Null Count  Dtype  \n",
      "---  ------  --------------  -----  \n",
      " 0   id      582 non-null    int64  \n",
      " 1   動畫名     582 non-null    object \n",
      " 2   總觀看數    582 non-null    int64  \n",
      " 3   平均觀看數   582 non-null    int64  \n",
      " 4   年份      582 non-null    int64  \n",
      " 5   月份      582 non-null    int64  \n",
      " 6   集數      582 non-null    int64  \n",
      " 7   星級      582 non-null    float64\n",
      " 8   評分人數    582 non-null    int64  \n",
      " 9   導演監督    564 non-null    object \n",
      " 10  台灣代理    582 non-null    object \n",
      " 11  製作廠商    564 non-null    object \n",
      " 12  作品分類1   582 non-null    object \n",
      " 13  作品分類2   574 non-null    object \n",
      " 14  作品分類3   415 non-null    object \n",
      " 15  作品分類4   203 non-null    object \n",
      " 16  作品分類5   75 non-null     object \n",
      " 17  作品分類6   6 non-null      object \n",
      " 18  原作載體    478 non-null    object \n",
      " 19  新續作     485 non-null    object \n",
      "dtypes: float64(1), int64(7), object(12)\n",
      "memory usage: 91.1+ KB\n"
     ]
    }
   ],
   "source": [
    "df.info()"
   ]
  },
  {
   "cell_type": "code",
   "execution_count": null,
   "metadata": {},
   "outputs": [],
   "source": []
  }
 ],
 "metadata": {
  "kernelspec": {
   "display_name": ".venv",
   "language": "python",
   "name": "python3"
  },
  "language_info": {
   "codemirror_mode": {
    "name": "ipython",
    "version": 3
   },
   "file_extension": ".py",
   "mimetype": "text/x-python",
   "name": "python",
   "nbconvert_exporter": "python",
   "pygments_lexer": "ipython3",
   "version": "3.12.0"
  }
 },
 "nbformat": 4,
 "nbformat_minor": 2
}
